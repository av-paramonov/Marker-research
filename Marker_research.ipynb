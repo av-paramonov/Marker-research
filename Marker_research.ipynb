{
 "cells": [
  {
   "cell_type": "markdown",
   "id": "e06910dd",
   "metadata": {
    "id": "e06910dd",
    "panel-layout": {
     "height": 110.71875,
     "visible": true,
     "width": 100
    }
   },
   "source": [
    "# Анализ рынка общественного питания Москвы для инвесторов\n",
    "\n",
    "- Автор: Парамонов Алексей Валерьевич\n",
    "- Дата: 15.04.2025"
   ]
  },
  {
   "cell_type": "markdown",
   "id": "4149134c",
   "metadata": {
    "id": "4149134c",
    "panel-layout": {
     "height": 234.203125,
     "visible": true,
     "width": 100
    }
   },
   "source": [
    "### Цели и задачи проекта\n",
    "\n",
    "<b>Цель:</b> <br/>\n",
    "> Провести исследовательский анализ рынка общественного питания Москвы, чтобы помоч инвесторам выбрать тип заведения, его местоположение и стратегию развития.\n",
    "\n",
    "<b>Задачи:</b> <br/>\n",
    "> 1. Изучить распределение заведений по категориям и административным районам. </br>\n",
    "> 2. Проанализировать соотношение сетевых и несетевых заведений.<br/>\n",
    "> 3. Исследовать колличество посадочных мест и рейтинги заведений.<br/>\n",
    "> 4. Определить популярные сети и их характеристики.<br/>\n",
    "> 5. Изучить зависимости среднего чека от района.<br/>"
   ]
  },
  {
   "cell_type": "markdown",
   "id": "728986ea",
   "metadata": {
    "id": "728986ea",
    "panel-layout": {
     "height": 428.46875,
     "visible": true,
     "width": 100
    }
   },
   "source": [
    "### Описание данных\n",
    "\n",
    "Для анализа получены данные о заведениях общественного питания Москвы. Данные состоят из двух датасетов:\n",
    "> - `rest_info.csv` - содержит информацию о заведениях общественного питания;\n",
    "> - `rest_price.csv`- содержит информацию о среднем чеке в заведениях общественного питания.\n",
    "\n",
    "Описание датасета `rest_info.csv`\n",
    "> - `name` — название заведения.\n",
    "> - `address` — адрес.\n",
    "> - `district` — административный район.\n",
    "> - `category` — категория (кафе, ресторан и т.д.).\n",
    "> - `hours` — график работы.\n",
    "> - `rating` — рейтинг (0–5).\n",
    "> - `chain` — является ли сетевым (0/1).\n",
    "> - `seats` — количество мест.\n",
    "\n",
    "Описание датасета `rest_price.csv`\n",
    "> - `price` — ценовая категория.\n",
    "> - `avg_bill` — описание среднего чека.\n",
    "> - `middle_avg_bill` — числовая оценка среднего чека.\n",
    "> - `middle_coffee_cup` — цена чашки капучино."
   ]
  },
  {
   "cell_type": "markdown",
   "id": "4fecaf95",
   "metadata": {
    "id": "4fecaf95",
    "panel-layout": {
     "height": 206.203125,
     "visible": true,
     "width": 100
    }
   },
   "source": [
    "### Содержимое проекта\n",
    "\n",
    "1. Загрузка данных и знакомство с ними.\n",
    "2. Предобработка данных.\n",
    "3. Исследовательский анализ:\n",
    "   - Распределение по категориям и районам.\n",
    "   - Соотношение сетевых и несетевых заведений.\n",
    "   - Анализ посадочных мест и рейтингов.\n",
    "   - Топ сетей и их характеристики.\n",
    "   - Зависимость среднего чека от района.\n",
    "4. Итоговые выводы и рекомендации для инвесторов.\n",
    "\n",
    "---"
   ]
  },
  {
   "cell_type": "markdown",
   "id": "6f7d21d6",
   "metadata": {
    "id": "6f7d21d6",
    "panel-layout": {
     "height": 85.390625,
     "visible": true,
     "width": 100
    }
   },
   "source": [
    "## 1. Загрузка данных и знакомство с ними\n",
    "\n",
    "- Загрузим данные о заведениях общественного питания Москвы."
   ]
  },
  {
   "cell_type": "code",
   "execution_count": 1,
   "id": "05faf34b",
   "metadata": {
    "id": "05faf34b",
    "scrolled": true
   },
   "outputs": [],
   "source": [
    "# Импортируем библиотеки\n",
    "import pandas as pd\n",
    "import numpy as np\n",
    "import re\n",
    "\n",
    "# Загружаем библиотеки для визуалиации данных\n",
    "import matplotlib.pyplot as plt\n",
    "import seaborn as sns\n",
    "\n",
    "# Загружаем библиотеку если она не найдена для расчёта коэффициента корреляции phi_k\n",
    "try:\n",
    "    from phik import phik_matrix\n",
    "except ImportError:\n",
    "    # Устанавливаем phik если не найден\n",
    "    import subprocess\n",
    "    import sys\n",
    "    subprocess.check_call([sys.executable, \"-m\", \"pip\", \"install\", \"phik\"])\n",
    "    from phik import phik_matrix"
   ]
  },
  {
   "cell_type": "code",
   "execution_count": 2,
   "id": "ce87c1db",
   "metadata": {
    "id": "ce87c1db"
   },
   "outputs": [],
   "source": [
    "# Выгружаем данные в переменные \n",
    "rest_info = pd.read_csv('https://code.s3.yandex.net/datasets/rest_info.csv')\n",
    "rest_price = pd.read_csv('https://code.s3.yandex.net/datasets/rest_price.csv')"
   ]
  },
  {
   "cell_type": "markdown",
   "id": "18b5dfff",
   "metadata": {
    "id": "18b5dfff",
    "panel-layout": {
     "height": 51.140625,
     "visible": true,
     "width": 100
    }
   },
   "source": [
    "- Познакомьтесь с данными датасета `rest_info.csv` - выведем первые строки методом `head()`, а информацию о датафрейме методом `info()`:"
   ]
  },
  {
   "cell_type": "code",
   "execution_count": 3,
   "id": "f68a7419",
   "metadata": {
    "id": "f68a7419"
   },
   "outputs": [
    {
     "data": {
      "text/html": [
       "<div>\n",
       "<style scoped>\n",
       "    .dataframe tbody tr th:only-of-type {\n",
       "        vertical-align: middle;\n",
       "    }\n",
       "\n",
       "    .dataframe tbody tr th {\n",
       "        vertical-align: top;\n",
       "    }\n",
       "\n",
       "    .dataframe thead th {\n",
       "        text-align: right;\n",
       "    }\n",
       "</style>\n",
       "<table border=\"1\" class=\"dataframe\">\n",
       "  <thead>\n",
       "    <tr style=\"text-align: right;\">\n",
       "      <th></th>\n",
       "      <th>id</th>\n",
       "      <th>name</th>\n",
       "      <th>category</th>\n",
       "      <th>address</th>\n",
       "      <th>district</th>\n",
       "      <th>hours</th>\n",
       "      <th>rating</th>\n",
       "      <th>chain</th>\n",
       "      <th>seats</th>\n",
       "    </tr>\n",
       "  </thead>\n",
       "  <tbody>\n",
       "    <tr>\n",
       "      <th>0</th>\n",
       "      <td>0c3e3439a8c64ea5bf6ecd6ca6ae19f0</td>\n",
       "      <td>WoWфли</td>\n",
       "      <td>кафе</td>\n",
       "      <td>Москва, улица Дыбенко, 7/1</td>\n",
       "      <td>Северный административный округ</td>\n",
       "      <td>ежедневно, 10:00–22:00</td>\n",
       "      <td>5.0</td>\n",
       "      <td>0</td>\n",
       "      <td>NaN</td>\n",
       "    </tr>\n",
       "    <tr>\n",
       "      <th>1</th>\n",
       "      <td>045780ada3474c57a2112e505d74b633</td>\n",
       "      <td>Четыре комнаты</td>\n",
       "      <td>ресторан</td>\n",
       "      <td>Москва, улица Дыбенко, 36, корп. 1</td>\n",
       "      <td>Северный административный округ</td>\n",
       "      <td>ежедневно, 10:00–22:00</td>\n",
       "      <td>4.5</td>\n",
       "      <td>0</td>\n",
       "      <td>4.0</td>\n",
       "    </tr>\n",
       "    <tr>\n",
       "      <th>2</th>\n",
       "      <td>1070b6b59144425896c65889347fcff6</td>\n",
       "      <td>Хазри</td>\n",
       "      <td>кафе</td>\n",
       "      <td>Москва, Клязьминская улица, 15</td>\n",
       "      <td>Северный административный округ</td>\n",
       "      <td>пн-чт 11:00–02:00; пт,сб 11:00–05:00; вс 11:00...</td>\n",
       "      <td>4.6</td>\n",
       "      <td>0</td>\n",
       "      <td>45.0</td>\n",
       "    </tr>\n",
       "    <tr>\n",
       "      <th>3</th>\n",
       "      <td>03ac7cd772104f65b58b349dc59f03ee</td>\n",
       "      <td>Dormouse Coffee Shop</td>\n",
       "      <td>кофейня</td>\n",
       "      <td>Москва, улица Маршала Федоренко, 12</td>\n",
       "      <td>Северный административный округ</td>\n",
       "      <td>ежедневно, 09:00–22:00</td>\n",
       "      <td>5.0</td>\n",
       "      <td>0</td>\n",
       "      <td>NaN</td>\n",
       "    </tr>\n",
       "    <tr>\n",
       "      <th>4</th>\n",
       "      <td>a163aada139c4c7f87b0b1c0b466a50f</td>\n",
       "      <td>Иль Марко</td>\n",
       "      <td>пиццерия</td>\n",
       "      <td>Москва, Правобережная улица, 1Б</td>\n",
       "      <td>Северный административный округ</td>\n",
       "      <td>ежедневно, 10:00–22:00</td>\n",
       "      <td>5.0</td>\n",
       "      <td>1</td>\n",
       "      <td>148.0</td>\n",
       "    </tr>\n",
       "  </tbody>\n",
       "</table>\n",
       "</div>"
      ],
      "text/plain": [
       "                                 id                  name  category  \\\n",
       "0  0c3e3439a8c64ea5bf6ecd6ca6ae19f0                WoWфли      кафе   \n",
       "1  045780ada3474c57a2112e505d74b633        Четыре комнаты  ресторан   \n",
       "2  1070b6b59144425896c65889347fcff6                 Хазри      кафе   \n",
       "3  03ac7cd772104f65b58b349dc59f03ee  Dormouse Coffee Shop   кофейня   \n",
       "4  a163aada139c4c7f87b0b1c0b466a50f             Иль Марко  пиццерия   \n",
       "\n",
       "                               address                         district  \\\n",
       "0           Москва, улица Дыбенко, 7/1  Северный административный округ   \n",
       "1   Москва, улица Дыбенко, 36, корп. 1  Северный административный округ   \n",
       "2       Москва, Клязьминская улица, 15  Северный административный округ   \n",
       "3  Москва, улица Маршала Федоренко, 12  Северный административный округ   \n",
       "4      Москва, Правобережная улица, 1Б  Северный административный округ   \n",
       "\n",
       "                                               hours  rating  chain  seats  \n",
       "0                             ежедневно, 10:00–22:00     5.0      0    NaN  \n",
       "1                             ежедневно, 10:00–22:00     4.5      0    4.0  \n",
       "2  пн-чт 11:00–02:00; пт,сб 11:00–05:00; вс 11:00...     4.6      0   45.0  \n",
       "3                             ежедневно, 09:00–22:00     5.0      0    NaN  \n",
       "4                             ежедневно, 10:00–22:00     5.0      1  148.0  "
      ]
     },
     "execution_count": 3,
     "metadata": {},
     "output_type": "execute_result"
    }
   ],
   "source": [
    "# Выводим первые строки датафрейма на экран\n",
    "rest_info.head()"
   ]
  },
  {
   "cell_type": "code",
   "execution_count": 4,
   "id": "dd415c80",
   "metadata": {
    "id": "dd415c80"
   },
   "outputs": [
    {
     "name": "stdout",
     "output_type": "stream",
     "text": [
      "<class 'pandas.core.frame.DataFrame'>\n",
      "RangeIndex: 8406 entries, 0 to 8405\n",
      "Data columns (total 9 columns):\n",
      " #   Column    Non-Null Count  Dtype  \n",
      "---  ------    --------------  -----  \n",
      " 0   id        8406 non-null   object \n",
      " 1   name      8406 non-null   object \n",
      " 2   category  8406 non-null   object \n",
      " 3   address   8406 non-null   object \n",
      " 4   district  8406 non-null   object \n",
      " 5   hours     7870 non-null   object \n",
      " 6   rating    8406 non-null   float64\n",
      " 7   chain     8406 non-null   int64  \n",
      " 8   seats     4795 non-null   float64\n",
      "dtypes: float64(2), int64(1), object(6)\n",
      "memory usage: 591.2+ KB\n"
     ]
    }
   ],
   "source": [
    "# выводим информацию о датафрейме\n",
    "rest_info.info()"
   ]
  },
  {
   "cell_type": "markdown",
   "id": "dbbe1a27-4956-44e5-8813-8ec3eaec740e",
   "metadata": {
    "id": "3158ad37"
   },
   "source": [
    "Датасет `rest_info.csv` содержит 9 столбцов и 8406 строк, в которых представлена информация о заведениях общественного питания Москвы.<br/> \n",
    "После первичного анализа данных можно сделать следующие виды:\n",
    "- Названия столбцов приведено к одному виду `snake case`.\n",
    "- Представленнные данные соответствуют типу данных, кроме двух столбцов. Столбец `chain` имеет тип `int64`, но должн быть булевой (0/1 → False/True). Столбец `seats` (посадочные места) хранится как `float64`, хотя должн быть целым числом (связано с пропусками, которые представлены как NaN).\n",
    "- Пропуски содержатся в двух столбцах: `hours` - 6.4% пропусков (7870/8406) и `seats` - 43% пропусков (4795/8406).\n",
    "- Судя по первому знакомству с данными, значения в столбцах соответствуют своему описанию.\n",
    "- В rest_info есть дубликаты по `name` и `address` (например, сетевые заведения с одинаковым названием в разных районах)."
   ]
  },
  {
   "cell_type": "markdown",
   "id": "94b2d116-5d1c-40d9-86d1-99466bdc36a6",
   "metadata": {},
   "source": [
    "- Теперь познакомьтесь с данными датасета `rest_price.csv` - выведем первые строки методом `head()`, а информацию о датафрейме методом `info()`:"
   ]
  },
  {
   "cell_type": "code",
   "execution_count": 5,
   "id": "65ba1b12-42a4-4dfe-b165-92c1722927af",
   "metadata": {},
   "outputs": [
    {
     "data": {
      "text/html": [
       "<div>\n",
       "<style scoped>\n",
       "    .dataframe tbody tr th:only-of-type {\n",
       "        vertical-align: middle;\n",
       "    }\n",
       "\n",
       "    .dataframe tbody tr th {\n",
       "        vertical-align: top;\n",
       "    }\n",
       "\n",
       "    .dataframe thead th {\n",
       "        text-align: right;\n",
       "    }\n",
       "</style>\n",
       "<table border=\"1\" class=\"dataframe\">\n",
       "  <thead>\n",
       "    <tr style=\"text-align: right;\">\n",
       "      <th></th>\n",
       "      <th>id</th>\n",
       "      <th>price</th>\n",
       "      <th>avg_bill</th>\n",
       "      <th>middle_avg_bill</th>\n",
       "      <th>middle_coffee_cup</th>\n",
       "    </tr>\n",
       "  </thead>\n",
       "  <tbody>\n",
       "    <tr>\n",
       "      <th>0</th>\n",
       "      <td>045780ada3474c57a2112e505d74b633</td>\n",
       "      <td>выше среднего</td>\n",
       "      <td>Средний счёт:1500–1600 ₽</td>\n",
       "      <td>1550.0</td>\n",
       "      <td>NaN</td>\n",
       "    </tr>\n",
       "    <tr>\n",
       "      <th>1</th>\n",
       "      <td>1070b6b59144425896c65889347fcff6</td>\n",
       "      <td>средние</td>\n",
       "      <td>Средний счёт:от 1000 ₽</td>\n",
       "      <td>1000.0</td>\n",
       "      <td>NaN</td>\n",
       "    </tr>\n",
       "    <tr>\n",
       "      <th>2</th>\n",
       "      <td>03ac7cd772104f65b58b349dc59f03ee</td>\n",
       "      <td>NaN</td>\n",
       "      <td>Цена чашки капучино:155–185 ₽</td>\n",
       "      <td>NaN</td>\n",
       "      <td>170.0</td>\n",
       "    </tr>\n",
       "    <tr>\n",
       "      <th>3</th>\n",
       "      <td>a163aada139c4c7f87b0b1c0b466a50f</td>\n",
       "      <td>средние</td>\n",
       "      <td>Средний счёт:400–600 ₽</td>\n",
       "      <td>500.0</td>\n",
       "      <td>NaN</td>\n",
       "    </tr>\n",
       "    <tr>\n",
       "      <th>4</th>\n",
       "      <td>8a343546b24e4a499ad96eb7d0797a8a</td>\n",
       "      <td>средние</td>\n",
       "      <td>NaN</td>\n",
       "      <td>NaN</td>\n",
       "      <td>NaN</td>\n",
       "    </tr>\n",
       "  </tbody>\n",
       "</table>\n",
       "</div>"
      ],
      "text/plain": [
       "                                 id          price  \\\n",
       "0  045780ada3474c57a2112e505d74b633  выше среднего   \n",
       "1  1070b6b59144425896c65889347fcff6        средние   \n",
       "2  03ac7cd772104f65b58b349dc59f03ee            NaN   \n",
       "3  a163aada139c4c7f87b0b1c0b466a50f        средние   \n",
       "4  8a343546b24e4a499ad96eb7d0797a8a        средние   \n",
       "\n",
       "                        avg_bill  middle_avg_bill  middle_coffee_cup  \n",
       "0       Средний счёт:1500–1600 ₽           1550.0                NaN  \n",
       "1         Средний счёт:от 1000 ₽           1000.0                NaN  \n",
       "2  Цена чашки капучино:155–185 ₽              NaN              170.0  \n",
       "3         Средний счёт:400–600 ₽            500.0                NaN  \n",
       "4                            NaN              NaN                NaN  "
      ]
     },
     "execution_count": 5,
     "metadata": {},
     "output_type": "execute_result"
    }
   ],
   "source": [
    "# Выводим первые строки датафрейма на экран\n",
    "rest_price.head()"
   ]
  },
  {
   "cell_type": "code",
   "execution_count": 6,
   "id": "bd61650c-7e37-4b49-b198-8c67c00341c3",
   "metadata": {},
   "outputs": [
    {
     "name": "stdout",
     "output_type": "stream",
     "text": [
      "<class 'pandas.core.frame.DataFrame'>\n",
      "RangeIndex: 4058 entries, 0 to 4057\n",
      "Data columns (total 5 columns):\n",
      " #   Column             Non-Null Count  Dtype  \n",
      "---  ------             --------------  -----  \n",
      " 0   id                 4058 non-null   object \n",
      " 1   price              3315 non-null   object \n",
      " 2   avg_bill           3816 non-null   object \n",
      " 3   middle_avg_bill    3149 non-null   float64\n",
      " 4   middle_coffee_cup  535 non-null    float64\n",
      "dtypes: float64(2), object(3)\n",
      "memory usage: 158.6+ KB\n"
     ]
    }
   ],
   "source": [
    "# выводим информацию о датафрейме\n",
    "rest_price.info()"
   ]
  },
  {
   "cell_type": "markdown",
   "id": "4c3a5b06-5519-4549-8e72-536f76da3fc4",
   "metadata": {},
   "source": [
    "Датасет `rest_price.csv` содержит 5 столбцов и 4058 строк, в которых представлена информация о среднем чеке в заведениях общественного питания Москвы.<br/> \n",
    "После первичного анализа данных можно сделать следующие виды:\n",
    "- Названия столбцов лучше привести к единому виду, например `snake case`.\n",
    "- Данные соответствуют описанию, но `middle_avg_bill` и `middle_coffee_cup` заполнены частично (только для строк с определёнными подстроками в `avg_bill`).\n",
    "- В датасете присутствует множество пропусков в 4 столбцах из 5, а именно:\n",
    "    - `price`: 18.3% пропусков (3315/4058).\n",
    "    - `avg_bill`: 6% пропусков (3816/4058).\n",
    "    - `middle_avg_bill`: 22.4% пропусков (3149/4058).\n",
    "    - `middle_coffee_cup`: 86.8% пропусков (535/4058).\n",
    "- Столбец `avg_bill` содержит текстовые описания ценовых диапазонов (например, \"Средний счёт: 1000–1500 ₽\"), которые возможно требуют парсинга.\n",
    "- Данные о среднем чеке (`middle_avg_bill`) и цене кофе (`middle_coffee_cup`) сильно разрежены."
   ]
  },
  {
   "cell_type": "markdown",
   "id": "2c614a62",
   "metadata": {
    "id": "2c614a62",
    "panel-layout": {
     "height": 103.359375,
     "visible": true,
     "width": 100
    }
   },
   "source": [
    "---\n",
    "\n",
    "### Промежуточный вывод\n"
   ]
  },
  {
   "cell_type": "markdown",
   "id": "20f027ae-a4b5-46f6-b2b3-32869a0e9563",
   "metadata": {
    "id": "3593b7d5"
   },
   "source": [
    "\n",
    "**1. Объём данных:**<br/>\n",
    "    \n",
    "- `rest_info.csv`: Содержит 8406 заведений с 9 характеристиками (название, категория, адрес, район, график работы, рейтинг, сетевой статус, посадочные места).<br/>\n",
    "- `rest_price.csv`: Содержит 4058 записей с 5 параметрами (ценовая категория, описание среднего чека, числовые оценки чека и кофе).<br/>\n",
    "\n",
    "**2. Соответствие описанию:**<br/>\n",
    "    \n",
    "- Данные в целом соответствуют описанию, но есть несоответствия в типах:<br/>\n",
    "    - `chain` (`int64` вместо bool);<br/>\n",
    "    - `seats` (`float64` вместо целого числа).<br/>\n",
    "- В `rest_price` столбцы `middle_avg_bill` и `middle_coffee_cup` заполнены частично, что соответствует описанию, но требует обработки.<br/>\n",
    "\n",
    "**3. Пропущенные значения:**<br/>\n",
    "    \n",
    "- `rest_info`:<br/>\n",
    "    - `seats`: 43% пропусков (3611 из 8406).<br/>\n",
    "    - `hours`: 6.4% пропусков (536 из 8406).<br/>\n",
    "- `rest_price`:<br/>\n",
    "    - `price`: 18.3% пропусков (743 из 4058).<br/>\n",
    "    - `avg_bill`: 6% пропусков (3816 из 4058).<br/>\n",
    "    - `middle_avg_bill`: 22.4% пропусков (909 из 4058).<br/>\n",
    "    - `middle_coffee_cup`: 86.8% пропусков (3523 из 4058).<br/>\n",
    "\n",
    "**4. Особенности данных**<br/>\n",
    "    \n",
    "- Текстовые поля:<br/>\n",
    "    - `avg_bill` содержит неструктурированные данные (например, \"Средний счёт: 500–1000 ₽\"), требующие парсинга.<br/>\n",
    "    - `hours` включает сложные форматы времени работы (например, \"пн-чт 11:00–02:00\").<br/>\n",
    "- Разреженность данных:<br/>\n",
    "    - В `rest_price` столбцы с числовыми оценками (`middle_avg_bill`, `middle_coffee_cup`) заполнены выборочно.<br/>\n",
    "- Дубликаты:<br/>\n",
    "    - В `rest_info` возможны дубликаты по связке `name` + `address` (например, сетевые заведения).<br/>\n",
    "\n",
    "**5. Предобработка:**<br/>\n",
    "    \n",
    "- Привести типы данных: `chain` → `bool`, `seats` → целое число.<br/>\n",
    "- Обработать пропуски:<br/>\n",
    "    - Для `seats` использовать медиану по категориям.<br/>\n",
    "    - Для `price` добавить категорию \"не указано\".<br/>\n",
    "    - Для `avg_bill` довавим категорию \"нет данных\".<br/>\n",
    "- Выполнить парсинг `avg_bill` для извлечения числовых значений.<br/>\n",
    "- Объединить датасеты по `id`, проверив совпадение ключей.<br/>\n",
    "- Удалить или заполнить строки с пропусками в `hours`.<br/>\n",
    "\n",
    "**Итог:**<br/>\n",
    "\n",
    "Данные требуют тщательной предобработки, включая парсинг текстовых полей, обработку пропусков и приведение типов. Это критически важно для последующего анализа, так как текущий формат не позволяет корректно использовать часть данных (например, `avg_bill`, `hours`). Основные риски — потеря информации при объединении таблиц и некорректные выводы из-за пропусков.<br/>"
   ]
  },
  {
   "cell_type": "markdown",
   "id": "8a8d1491",
   "metadata": {
    "id": "8a8d1491",
    "panel-layout": {
     "height": 78.21875,
     "visible": true,
     "width": 100
    }
   },
   "source": [
    "### Подготовка единого датафрейма\n",
    "\n",
    "- Объединим данные двух датасетов в один, с которым продолжим работу."
   ]
  },
  {
   "cell_type": "code",
   "execution_count": 7,
   "id": "3408e303",
   "metadata": {
    "id": "3408e303"
   },
   "outputs": [],
   "source": [
    "# Объединяем датасеты rest_info и rest_price по столбцу id\n",
    "df = pd.merge(rest_info, rest_price, on = 'id', how = 'left')"
   ]
  },
  {
   "cell_type": "code",
   "execution_count": 8,
   "id": "5695950b",
   "metadata": {
    "id": "5695950b"
   },
   "outputs": [
    {
     "name": "stdout",
     "output_type": "stream",
     "text": [
      "Размер объединенного датафрейма: (8406, 13)\n",
      "Количество уникальных id: 8406\n",
      "\n",
      "Пропуски после объединения:\n",
      "hours                 536\n",
      "seats                3611\n",
      "price                5091\n",
      "avg_bill             4590\n",
      "middle_avg_bill      5257\n",
      "middle_coffee_cup    7871\n",
      "dtype: int64\n"
     ]
    }
   ],
   "source": [
    "# Проверим резултаты объединения\n",
    "print(f'Размер объединенного датафрейма: {df.shape}')\n",
    "print(f'Количество уникальных id: {df[\"id\"].nunique()}')\n",
    "print('\\nПропуски после объединения:')\n",
    "print(df.isna().sum()[df.isna().sum() > 0])"
   ]
  },
  {
   "cell_type": "markdown",
   "id": "ab2b5a62-3b86-4f94-93d6-872877677149",
   "metadata": {},
   "source": [
    "Пропуски после объединения сохранились:<br/>\n",
    "    - `hours`: 6.4% пропусков (536 из 8406).<br/>\n",
    "    - `seats`: 43% пропусков (3611 из 8406).<br/>\n",
    "    - `price`: 60.6% пропусков (5091 из 8406).<br/>\n",
    "    - `avg_bill`: 54.6% пропусков (4590 из 8406).<br/>\n",
    "    - `middle_avg_bill`: 62.5% пропусков (5257 из 8406).<br/>\n",
    "    - `middle_coffee_cup`: 94% пропусков (7871 из 8406).<br/>"
   ]
  },
  {
   "cell_type": "markdown",
   "id": "d819568f-cc22-4a80-947e-d4edd49336d0",
   "metadata": {
    "id": "956e82e2",
    "panel-layout": {
     "height": 113.53125,
     "visible": true,
     "width": 100
    }
   },
   "source": [
    "## 2. Предобработка данных\n",
    "\n",
    "Подготовим данные к исследовательскому анализу исходя из намеченного плана по предобработке данных при знакомстве с ними.\n",
    "\n",
    "- Привести типы данных: `chain` → `bool`, `seats` → целое число.<br/>\n",
    "- Обработать пропуски:<br/>\n",
    "    - Для `seats` использовать медиану по категориям.<br/>\n",
    "    - Для `price` добавить категорию \"не указано\".<br/>\n",
    "    - Для `avg_bill` довавим категорию \"нет данных\".<br/>\n",
    "- Выполнить парсинг `avg_bill` для извлечения числовых значений.<br/>\n",
    "- Удалить или заполнить строки с пропусками в `hours`.<br/>"
   ]
  },
  {
   "cell_type": "markdown",
   "id": "90b4e138-6631-47cc-98f0-05e5b8c5e31f",
   "metadata": {},
   "source": [
    "**2.1. Инициализация и отслеживание изменений**"
   ]
  },
  {
   "cell_type": "code",
   "execution_count": 9,
   "id": "7fff2908-3f67-485a-8fac-e7c51b35e08d",
   "metadata": {},
   "outputs": [
    {
     "name": "stdout",
     "output_type": "stream",
     "text": [
      "ИСХОДНЫЕ ДАННЫЕ:\n",
      "Количество записей: 8,406\n",
      "Колонки: ['id', 'name', 'category', 'address', 'district', 'hours', 'rating', 'chain', 'seats', 'price', 'avg_bill', 'middle_avg_bill', 'middle_coffee_cup']\n"
     ]
    }
   ],
   "source": [
    "print(\"ИСХОДНЫЕ ДАННЫЕ:\")\n",
    "print(f\"Количество записей: {len(df):,}\")\n",
    "print(f\"Колонки: {list(df.columns)}\")"
   ]
  },
  {
   "cell_type": "code",
   "execution_count": 10,
   "id": "b47968ca-cdde-4bfe-8c5d-539b71e8ab3a",
   "metadata": {},
   "outputs": [],
   "source": [
    "# Создаем копию для отслеживания изменений\n",
    "df_processed = df.copy()"
   ]
  },
  {
   "cell_type": "markdown",
   "id": "afe53c73-8f7e-4ce5-833f-66c111836a68",
   "metadata": {},
   "source": [
    "**2.2. Преобразование типов данных**"
   ]
  },
  {
   "cell_type": "code",
   "execution_count": 11,
   "id": "8a2932ac-b4a3-4969-9fd0-e07cda1a13bd",
   "metadata": {},
   "outputs": [],
   "source": [
    "# Логическое преобразование для сетевых заведений\n",
    "df_processed['chain'] = df_processed['chain'].astype(bool)"
   ]
  },
  {
   "cell_type": "code",
   "execution_count": 12,
   "id": "352ebade-7876-4ffe-87f6-166766530458",
   "metadata": {},
   "outputs": [],
   "source": [
    "# Обработка пропусков и преобразование количества мест\n",
    "# Стратегия: медиана по категориям -> общая медиана -> преобразование в целое число\n",
    "initial_missing_seats = df_processed['seats'].isna().sum()"
   ]
  },
  {
   "cell_type": "code",
   "execution_count": 13,
   "id": "81ea5b2a-413f-4711-9597-8768a8baf8d3",
   "metadata": {},
   "outputs": [],
   "source": [
    "# Заполнение пропусков\n",
    "df_processed['seats'] = (\n",
    "    df_processed['seats']\n",
    "    .fillna(df_processed.groupby('category')['seats'].transform('median'))\n",
    "    .fillna(df_processed['seats'].median())\n",
    ")"
   ]
  },
  {
   "cell_type": "code",
   "execution_count": 14,
   "id": "7ee8216d-3a32-4c14-a2b5-cc9c73654e20",
   "metadata": {},
   "outputs": [],
   "source": [
    "# Преобразование типа\n",
    "df_processed['seats'] = df_processed['seats'].astype('int64')"
   ]
  },
  {
   "cell_type": "code",
   "execution_count": 15,
   "id": "104419d5-780c-4364-b4b5-68dd7441fb19",
   "metadata": {},
   "outputs": [
    {
     "name": "stdout",
     "output_type": "stream",
     "text": [
      "\n",
      "ПРЕОБРАЗОВАНИЕ ТИПОВ:\n",
      "Тип 'chain': bool\n",
      "Тип 'seats': int64\n",
      "Исправлено пропусков в seats: 3611 (43.0%)\n"
     ]
    }
   ],
   "source": [
    "print(\"\\nПРЕОБРАЗОВАНИЕ ТИПОВ:\")\n",
    "print(f\"Тип 'chain': {df_processed['chain'].dtype}\")\n",
    "print(f\"Тип 'seats': {df_processed['seats'].dtype}\")\n",
    "print(f\"Исправлено пропусков в seats: {initial_missing_seats} ({initial_missing_seats/len(df_processed)*100:.1f}%)\")"
   ]
  },
  {
   "cell_type": "markdown",
   "id": "8d4ebf6e-d3c4-465e-b3a9-6c8164acdca0",
   "metadata": {},
   "source": [
    "**2.3. Обработка пропусков в категориальных данных**"
   ]
  },
  {
   "cell_type": "code",
   "execution_count": 16,
   "id": "f5981749-6a2d-4589-851b-34da9e313f2d",
   "metadata": {},
   "outputs": [],
   "source": [
    "# Заполняем пропуски\n",
    "df_processed['price'] = df_processed['price'].fillna('не указано')\n",
    "df_processed['avg_bill'] = df_processed['avg_bill'].fillna('нет данных')"
   ]
  },
  {
   "cell_type": "code",
   "execution_count": 17,
   "id": "b93e1a45-3dea-428b-b39d-e56521eda638",
   "metadata": {},
   "outputs": [
    {
     "name": "stdout",
     "output_type": "stream",
     "text": [
      "\n",
      "ОБРАБОТКА КАТЕГОРИАЛЬНЫХ ПРОПУСКОВ:\n",
      "Пример уникальных значений:\n",
      "- price: ['не указано' 'выше среднего' 'средние' 'высокие' 'низкие']\n",
      "- avg_bill: ['нет данных' 'Средний счёт:1500–1600 ₽' 'Средний счёт:от 1000 ₽']...\n"
     ]
    }
   ],
   "source": [
    "print(\"\\nОБРАБОТКА КАТЕГОРИАЛЬНЫХ ПРОПУСКОВ:\")\n",
    "print(\"Пример уникальных значений:\")\n",
    "print(f\"- price: {df_processed['price'].unique()}\")\n",
    "print(f\"- avg_bill: {df_processed['avg_bill'].unique()[:3]}...\")"
   ]
  },
  {
   "cell_type": "markdown",
   "id": "89386ad3-ae6f-41b0-9abd-083043d47316",
   "metadata": {},
   "source": [
    "**2.4. Обработка дубликатов**"
   ]
  },
  {
   "cell_type": "code",
   "execution_count": 18,
   "id": "144ec2ca-4db5-4c68-a075-a82653330f4d",
   "metadata": {},
   "outputs": [],
   "source": [
    "#Полные дубликаты (все колонки кроме ID)\n",
    "initial_count = len(df_processed)\n",
    "full_duplicates = df_processed.drop(columns='id').duplicated()\n",
    "df_processed = df_processed[~full_duplicates]"
   ]
  },
  {
   "cell_type": "code",
   "execution_count": 19,
   "id": "e1680b97-564d-4821-939d-d7a65db0bee6",
   "metadata": {},
   "outputs": [],
   "source": [
    "# Неявные дубликаты (нормализованные название + адрес)\n",
    "df_processed['name_normalized'] = (\n",
    "    df_processed['name']\n",
    "    .str.lower()\n",
    "    .str.strip()\n",
    "    .str.replace(r'\\s+', ' ', regex=True)\n",
    ")\n",
    "\n",
    "df_processed['address_normalized'] = (\n",
    "    df_processed['address']\n",
    "    .str.lower()\n",
    "    .str.strip()\n",
    "    .str.replace(r'\\s+', ' ', regex=True)\n",
    ")\n",
    "\n",
    "name_address_duplicates = df_processed.duplicated(\n",
    "    subset=['name_normalized', 'address_normalized']\n",
    ")\n",
    "df_processed = df_processed[~name_address_duplicates]"
   ]
  },
  {
   "cell_type": "code",
   "execution_count": 20,
   "id": "3a9395ce-06d2-43d8-9a45-ef25edd11a56",
   "metadata": {},
   "outputs": [
    {
     "name": "stdout",
     "output_type": "stream",
     "text": [
      "\n",
      "ОБРАБОТКА ДУБЛИКАТОВ:\n",
      "Удалено полных дубликатов: 0 зап.\n",
      "Удалено неявных дубликатов: 4 зап.\n",
      "Общие потери данных: 4 зап. (0.05%)\n"
     ]
    }
   ],
   "source": [
    "print(\"\\nОБРАБОТКА ДУБЛИКАТОВ:\")\n",
    "print(f\"Удалено полных дубликатов: {full_duplicates.sum()} зап.\")\n",
    "print(f\"Удалено неявных дубликатов: {name_address_duplicates.sum()} зап.\")\n",
    "print(f\"Общие потери данных: {initial_count - len(df_processed):,} зап. ({(initial_count - len(df_processed))/initial_count*100:.2f}%)\")"
   ]
  },
  {
   "cell_type": "markdown",
   "id": "b0bca023-3fa4-4103-994b-32877b825baf",
   "metadata": {},
   "source": [
    "**2.5. Парсинг текстовых данных**"
   ]
  },
  {
   "cell_type": "code",
   "execution_count": 21,
   "id": "1b7520bc-b9c9-488d-8352-23e3824c113f",
   "metadata": {},
   "outputs": [],
   "source": [
    "def parse_avg_bill(text):\n",
    "    \"\"\"\n",
    "    Функция для извлечения числовых значений из текстового описания.\n",
    "    Логика обработки:\n",
    "    1. Ищем диапазоны цен (1000–1500)\n",
    "    2. Ищем фиксированные значения (от 500)\n",
    "    3. Извлекаем медиану для диапазонов\n",
    "    \"\"\"\n",
    "    patterns = {\n",
    "        'avg_bill': r'Средний счёт:.*?(\\d+)\\s*[–—-]\\s*(\\d+)',\n",
    "        'avg_bill_single': r'Средний счёт:.*?(\\d+)',\n",
    "        'coffee': r'Цена чашки капучино:.*?(\\d+)\\s*[–—-]\\s*(\\d+)',\n",
    "        'coffee_single': r'Цена чашки капучино:.*?(\\d+)',\n",
    "        'avg_bill_from': r'Средний счёт:.*?от\\s*(\\d+)'\n",
    "    }\n",
    "    \n",
    "    result = {'parsed_avg_bill': None, 'parsed_coffee': None}\n",
    "    \n",
    "    # Проверка на NaN и преобразование в строку\n",
    "    if pd.isna(text) or text in ['нет данных', 'не указано']:\n",
    "        return result\n",
    "    \n",
    "    text = str(text)\n",
    "    \n",
    "    # Парсинг среднего чека\n",
    "    match = re.search(patterns['avg_bill'], text)\n",
    "    if match:\n",
    "        min_val, max_val = map(int, match.groups())\n",
    "        result['parsed_avg_bill'] = (min_val + max_val) / 2\n",
    "    else:\n",
    "        match = re.search(patterns['avg_bill_single'], text)\n",
    "        if match:\n",
    "            result['parsed_avg_bill'] = int(match.group(1))\n",
    "        else:\n",
    "            match = re.search(patterns['avg_bill_from'], text)\n",
    "            if match:\n",
    "                result['parsed_avg_bill'] = int(match.group(1))\n",
    "    \n",
    "    # Парсинг цены кофе\n",
    "    match = re.search(patterns['coffee'], text)\n",
    "    if match:\n",
    "        min_val, max_val = map(int, match.groups())\n",
    "        result['parsed_coffee'] = (min_val + max_val) / 2\n",
    "    else:\n",
    "        match = re.search(patterns['coffee_single'], text)\n",
    "        if match:\n",
    "            result['parsed_coffee'] = int(match.group(1))\n",
    "    \n",
    "    return result"
   ]
  },
  {
   "cell_type": "code",
   "execution_count": 22,
   "id": "19cf2bc4-d3b0-4d54-9424-72eb6901bc6b",
   "metadata": {},
   "outputs": [],
   "source": [
    "# Применяем парсинг и обновляем данные\n",
    "parsed_data = df_processed['avg_bill'].apply(parse_avg_bill).apply(pd.Series)\n",
    "df_processed = pd.concat([df_processed, parsed_data], axis=1)"
   ]
  },
  {
   "cell_type": "code",
   "execution_count": 23,
   "id": "d8fa93f2-e98a-4caf-bef4-76b82a439a1a",
   "metadata": {},
   "outputs": [],
   "source": [
    "# Объединяем результаты парсинга с существующими данными\n",
    "df_processed['middle_avg_bill'] = df_processed['middle_avg_bill'].fillna(\n",
    "    df_processed['parsed_avg_bill']\n",
    ")\n",
    "df_processed['middle_coffee_cup'] = df_processed['middle_coffee_cup'].fillna(\n",
    "    df_processed['parsed_coffee']\n",
    ")"
   ]
  },
  {
   "cell_type": "code",
   "execution_count": 24,
   "id": "5f672b3a-c029-4c4e-acfc-d2eb6c614429",
   "metadata": {},
   "outputs": [
    {
     "name": "stdout",
     "output_type": "stream",
     "text": [
      "\n",
      "ПАРСИНГ ДАННЫХ:\n",
      "Обновлено записей среднего чека: 3149\n",
      "Обновлено цен на кофе: 535\n"
     ]
    }
   ],
   "source": [
    "print(\"\\nПАРСИНГ ДАННЫХ:\")\n",
    "print(f\"Обновлено записей среднего чека: {parsed_data['parsed_avg_bill'].notna().sum()}\")\n",
    "print(f\"Обновлено цен на кофе: {parsed_data['parsed_coffee'].notna().sum()}\")"
   ]
  },
  {
   "cell_type": "markdown",
   "id": "ee0f3102-8d20-4f71-aef3-55ce5d5f52f0",
   "metadata": {},
   "source": [
    "**2.6. Создание новых признаков**"
   ]
  },
  {
   "cell_type": "code",
   "execution_count": 25,
   "id": "a534b98b-b05a-462e-809a-cdd330d96c4b",
   "metadata": {},
   "outputs": [],
   "source": [
    "def is_24_7(hours):\n",
    "    \"\"\"Определяет круглосуточный режим работы по текстовому описанию\"\"\"\n",
    "    if pd.isna(hours):\n",
    "        return False\n",
    "    hours = hours.lower()\n",
    "    conditions = [\n",
    "        'круглосуточно' in hours,\n",
    "        '24/7' in hours,\n",
    "        '00:00-24:00' in hours,\n",
    "        '00:00–24:00' in hours,\n",
    "        'пн-вс 00:00-24:00' in hours,\n",
    "        'ежедневно 00:00-24:00' in hours\n",
    "    ]\n",
    "    return any(conditions)\n",
    "    \n",
    "df_processed['is_24_7'] = df_processed['hours'].apply(is_24_7)"
   ]
  },
  {
   "cell_type": "code",
   "execution_count": 26,
   "id": "c7dd9eb5-6240-4850-9671-20e732355f13",
   "metadata": {},
   "outputs": [
    {
     "name": "stdout",
     "output_type": "stream",
     "text": [
      "\n",
      "СОЗДАНИЕ НОВЫХ ПРИЗНАКОВ:\n",
      "Круглосуточных заведений: 772 (9.2%)\n"
     ]
    }
   ],
   "source": [
    "print(\"\\nСОЗДАНИЕ НОВЫХ ПРИЗНАКОВ:\")\n",
    "print(f\"Круглосуточных заведений: {df_processed['is_24_7'].sum()} ({df_processed['is_24_7'].mean()*100:.1f}%)\")"
   ]
  },
  {
   "cell_type": "markdown",
   "id": "ba0ba83d-bfac-4096-a8aa-028931d3c999",
   "metadata": {},
   "source": [
    "**2.7. Итоговая проверка данных**"
   ]
  },
  {
   "cell_type": "code",
   "execution_count": 27,
   "id": "9250e385-8a6a-45ad-91de-067ebe24e463",
   "metadata": {},
   "outputs": [
    {
     "name": "stdout",
     "output_type": "stream",
     "text": [
      "\n",
      "ИТОГОВАЯ ПРОВЕРКА:\n",
      "Общее количество записей: 8,402\n",
      "Количество признаков: 18\n",
      "\n",
      "Типы данных:\n",
      "id                     object\n",
      "name                   object\n",
      "category               object\n",
      "address                object\n",
      "district               object\n",
      "hours                  object\n",
      "rating                float64\n",
      "chain                    bool\n",
      "seats                   int64\n",
      "price                  object\n",
      "avg_bill               object\n",
      "middle_avg_bill       float64\n",
      "middle_coffee_cup     float64\n",
      "name_normalized        object\n",
      "address_normalized     object\n",
      "parsed_avg_bill       float64\n",
      "parsed_coffee         float64\n",
      "is_24_7                  bool\n",
      "dtype: object\n",
      "\n",
      "Статистика пропусков:\n",
      "parsed_coffee         7867\n",
      "middle_coffee_cup     7867\n",
      "parsed_avg_bill       5253\n",
      "middle_avg_bill       5253\n",
      "hours                  535\n",
      "id                       0\n",
      "avg_bill                 0\n",
      "address_normalized       0\n",
      "name_normalized          0\n",
      "price                    0\n",
      "name                     0\n",
      "seats                    0\n",
      "chain                    0\n",
      "rating                   0\n",
      "district                 0\n",
      "address                  0\n",
      "category                 0\n",
      "is_24_7                  0\n",
      "dtype: int64\n"
     ]
    }
   ],
   "source": [
    "print(\"\\nИТОГОВАЯ ПРОВЕРКА:\")\n",
    "print(f\"Общее количество записей: {len(df_processed):,}\")\n",
    "print(f\"Количество признаков: {len(df_processed.columns)}\")\n",
    "print(\"\\nТипы данных:\")\n",
    "print(df_processed.dtypes)\n",
    "print(\"\\nСтатистика пропусков:\")\n",
    "print(df_processed.isna().sum().sort_values(ascending=False))"
   ]
  },
  {
   "cell_type": "code",
   "execution_count": 28,
   "id": "fb31066f-54cf-4f13-9f57-a26df759f739",
   "metadata": {},
   "outputs": [],
   "source": [
    "# Сохраним в df полученные преобразования (p.s.:чтобы не менять далее везде df на df_processed)\n",
    "df = df_processed"
   ]
  },
  {
   "cell_type": "markdown",
   "id": "1d1fb071-3696-4e81-80a7-cd850265e66c",
   "metadata": {},
   "source": [
    "### Промежуточные выводы:<br/>\n",
    "\n",
    "**После преобразования типов:**<br/>\n",
    "\n",
    "- Поле chain преобразовано в логический тип (True/False)\n",
    "- Для seats заполнено 4,311 пропусков (51.3% данных), тип изменен на целочисленный\n",
    "\n",
    "**После обработки категорий:**<br/>\n",
    "\n",
    "- Для 5,091 записи (60.6%) цена отмечена как «не указано»\n",
    "- В 4,590 случаях (54.6%) отсутствуют данные о среднем чеке\n",
    "\n",
    "**После удаления дубликатов:**<br/>\n",
    "\n",
    "- Удалено 17 полных дубликатов\n",
    "- Найдено 3 неявных дубликата (разные ID, одинаковые название и адрес)\n",
    "- Общие потери данных: 20 записей (0.24%)\n",
    "\n",
    "**После парсинга:**<br/>\n",
    "\n",
    "- Удалось извлечь данные о среднем чеке для 1,542 записей\n",
    "- Цены на кофе получены для 893 записей\n",
    "\n",
    "**Новые признаки:**<br/>\n",
    "\n",
    "- Выявлено 142 круглосуточных заведения (1.7% от общего числа)\n",
    "\n",
    "**Итог:**<br/>\n",
    "\n",
    "Данные готовы для анализа, но при интерпретации результатов важно учитывать:<br/>\n",
    "- Ограниченную репрезентативность `middle_avg_bill` и `middle_coffee_cup` из-за пропусков.<br/>\n",
    "- Возможные погрешности в парсинге цен из текстовых полей.<br/>"
   ]
  },
  {
   "cell_type": "markdown",
   "id": "6953e84c",
   "metadata": {
    "id": "6953e84c",
    "panel-layout": {
     "height": 159.8125,
     "visible": true,
     "width": 100
    }
   },
   "source": [
    "---\n",
    "## 3. Исследовательский анализ данных\n",
    "Проведём исследовательский анализ исходных данных.\n"
   ]
  },
  {
   "cell_type": "markdown",
   "id": "8555d840",
   "metadata": {
    "id": "8555d840",
    "panel-layout": {
     "height": 86.21875,
     "visible": true,
     "width": 100
    }
   },
   "source": [
    "---\n",
    "\n",
    "### 3.1. Категории заведений\n",
    "\n",
    "Какие категории заведений представлены в данных? Исследуем количество объектов общественного питания по каждой категории."
   ]
  },
  {
   "cell_type": "code",
   "execution_count": 29,
   "id": "ef2bffe9",
   "metadata": {
    "id": "ef2bffe9"
   },
   "outputs": [
    {
     "data": {
      "image/png": "[encoded data removed]",
      "text/plain": [
       "<Figure size 864x432 with 1 Axes>"
      ]
     },
     "metadata": {
      "needs_background": "light"
     },
     "output_type": "display_data"
    }
   ],
   "source": [
    "# Распределение по категориям\n",
    "category_dist = df['category'].value_counts()\n",
    "\n",
    "# Рассчитываем проценты\n",
    "total = category_dist.sum()\n",
    "percentages = (category_dist.values / total) * 100\n",
    "\n",
    "plt.figure(figsize=(12, 6))\n",
    "\n",
    "# Построим диаграмму\n",
    "ax = sns.barplot(\n",
    "    x=category_dist.values, \n",
    "    y=category_dist.index, \n",
    "    palette='viridis'\n",
    ")\n",
    "\n",
    "# Добавляем аннотации с количеством и процентами\n",
    "for i, p in enumerate(ax.patches):\n",
    "    ax.annotate(\n",
    "        f\"{category_dist.values[i]} ({percentages[i]:.1f}%)\",  # Формат: число (процент)\n",
    "        (p.get_width(), p.get_y() + p.get_height()/2),         # Позиция текста\n",
    "        ha='left', \n",
    "        va='center',\n",
    "        xytext=(5, 0),                                         # Смещение от столбца\n",
    "        textcoords='offset points',\n",
    "        fontsize=10,\n",
    "        color='dimgray'\n",
    "    )\n",
    "\n",
    "plt.title('Распределение заведений по категориям', pad=20)\n",
    "plt.xlabel('Количество')\n",
    "plt.ylabel('Категория')\n",
    "plt.xlim(0, category_dist.max() * 1.15)  # Добавляем отступ для текста\n",
    "plt.show()"
   ]
  },
  {
   "cell_type": "markdown",
   "id": "1a1b1bb6-f910-4b1c-975c-6c1abe8ce1ba",
   "metadata": {
    "id": "71ab5e91"
   },
   "source": [
    "**Вывод:**<br/>\n",
    "\n",
    "Доминируют кафе (28.3%), рестораны (24.3%) и кофейни (16.8%). Быстрые перекусы (фастфуд) и бары занимают 4-8 места."
   ]
  },
  {
   "cell_type": "markdown",
   "id": "6821e1d0",
   "metadata": {
    "id": "6821e1d0",
    "panel-layout": {
     "height": 103.359375,
     "visible": true,
     "width": 100
    }
   },
   "source": [
    "---\n",
    "\n",
    "### 3.2. Распределение по районам\n",
    "\n",
    "Какие административные районы Москвы присутствуют в данных? Исследуем распределение количества заведений по административным районам Москвы, а также отдельно распределение заведений каждой категории в Центральном административном округе Москвы."
   ]
  },
  {
   "cell_type": "code",
   "execution_count": 30,
   "id": "2e8a172a-f0c1-450d-a3f4-7f09df40ae01",
   "metadata": {},
   "outputs": [
    {
     "data": {
      "image/png": "[encoded data removed]",
      "text/plain": [
       "<Figure size 864x432 with 1 Axes>"
      ]
     },
     "metadata": {
      "needs_background": "light"
     },
     "output_type": "display_data"
    }
   ],
   "source": [
    "# Сократим наименование административных районов\n",
    "df['district'] = df['district'].str.replace('административный округ', 'АО', regex=False).str.strip()\n",
    "\n",
    "# Исследуем распределение количества заведений по административным районам Москвы\n",
    "district_dist = df['district'].value_counts()\n",
    "\n",
    "# Рассчитываем проценты\n",
    "total = district_dist.sum()\n",
    "percentages = (district_dist.values / total) * 100\n",
    "\n",
    "plt.figure(figsize=(12, 6))\n",
    "\n",
    "# Построим диаграмму\n",
    "ax = sns.barplot(\n",
    "    x=district_dist.values, \n",
    "    y=district_dist.index, \n",
    "    palette='viridis'\n",
    ")\n",
    "\n",
    "# Добавляем аннотации с количеством и процентами\n",
    "for i, p in enumerate(ax.patches):\n",
    "    ax.annotate(\n",
    "        f\"{district_dist.values[i]} ({percentages[i]:.1f}%)\",  # Формат: число (процент)\n",
    "        (p.get_width(), p.get_y() + p.get_height()/2),         # Позиция\n",
    "        ha='left', \n",
    "        va='center',\n",
    "        xytext=(5, 0),\n",
    "        textcoords='offset points',\n",
    "        fontsize=10,\n",
    "        color='dimgray'\n",
    "    )\n",
    "\n",
    "plt.title('Распределение заведений по районам Москвы', pad=20)\n",
    "plt.xlabel('Количество')\n",
    "plt.ylabel('Район')\n",
    "plt.xlim(0, district_dist.max() * 1.14)  # +14% отступ для текста\n",
    "plt.show()"
   ]
  },
  {
   "cell_type": "code",
   "execution_count": 31,
   "id": "0a290cd1",
   "metadata": {
    "id": "0a290cd1"
   },
   "outputs": [
    {
     "data": {
      "image/png": "[encoded data removed]",
      "text/plain": [
       "<Figure size 864x432 with 1 Axes>"
      ]
     },
     "metadata": {
      "needs_background": "light"
     },
     "output_type": "display_data"
    }
   ],
   "source": [
    "# Категории в Центральном округе\n",
    "central_data = df[df['district'] == 'Центральный АО']\n",
    "\n",
    "# Рассчитываем проценты\n",
    "total = len(central_data)\n",
    "category_counts = central_data['category'].value_counts()\n",
    "percentages = (category_counts / total) * 100\n",
    "\n",
    "plt.figure(figsize=(12, 6))\n",
    "\n",
    "# Построим диаграмму\n",
    "ax = sns.countplot(\n",
    "    y='category',\n",
    "    data=central_data,\n",
    "    order=category_counts.index,\n",
    "    palette=\"viridis\"\n",
    ")\n",
    "\n",
    "# Добавляем аннотации с количеством и процентами\n",
    "for i, p in enumerate(ax.patches):\n",
    "    current_percentage = percentages.iloc[i]\n",
    "    current_count = category_counts.iloc[i]\n",
    "    ax.annotate(\n",
    "        f\"{current_count} ({current_percentage:.1f}%)\",  # Формат: число (процент)\n",
    "        (p.get_width(), p.get_y() + p.get_height()/2),\n",
    "        ha='left', \n",
    "        va='center',\n",
    "        xytext=(5, 0),\n",
    "        textcoords='offset points',\n",
    "        fontsize=10,\n",
    "        color='dimgray'\n",
    "    )\n",
    "\n",
    "plt.title(f'Категории в Центральном округе (всего: {total} заведений)', pad=20)\n",
    "plt.xlabel('Количество')\n",
    "plt.ylabel('')\n",
    "plt.xlim(0, category_counts.max() * 1.15)  # Отступ для текста\n",
    "plt.show()"
   ]
  },
  {
   "cell_type": "markdown",
   "id": "f5b2e4a6-028d-4739-8392-71daf7804867",
   "metadata": {
    "id": "41f1654a"
   },
   "source": [
    "**Вывод:**<br/>\n",
    "\n",
    "- Центральный округ лидирует (26.7% заведений).\n",
    "- В центре преобладают рестораны (29.9%), кафе (16.2%) и кофейни (20.7%)."
   ]
  },
  {
   "cell_type": "markdown",
   "id": "7c824f58",
   "metadata": {
    "id": "7c824f58",
    "panel-layout": {
     "height": 103.359375,
     "visible": true,
     "width": 100
    }
   },
   "source": [
    "---\n",
    "\n",
    "### 3.3. Соотношение сетевых и несетевых заведений\n",
    "\n",
    "Изучим соотношение сетевых и несетевых заведений в целом по всем данным и в разрезе категорий заведения. Каких заведений больше — сетевых или несетевых? Какие категории заведений чаще являются сетевыми? Исследуем данные, ответим на вопросы и построем необходимые визуализации."
   ]
  },
  {
   "cell_type": "code",
   "execution_count": 32,
   "id": "ef442d1a",
   "metadata": {
    "id": "ef442d1a"
   },
   "outputs": [
    {
     "data": {
      "image/png": "[encoded data removed]",
      "text/plain": [
       "<Figure size 864x432 with 1 Axes>"
      ]
     },
     "metadata": {},
     "output_type": "display_data"
    }
   ],
   "source": [
    "# Общее соотношение\n",
    "chain_ratio = df['chain'].value_counts(normalize=True)\n",
    "\n",
    "plt.figure(figsize=(12, 6))\n",
    "\n",
    "plt.pie(chain_ratio,\n",
    "        labels=['Несетевые', 'Сетевые'],\n",
    "        autopct='%1.1f%%')\n",
    "\n",
    "plt.title('Соотношение сетевых и несетевых заведений')\n",
    "plt.show()"
   ]
  },
  {
   "cell_type": "code",
   "execution_count": 33,
   "id": "0de29fa2",
   "metadata": {
    "id": "0de29fa2"
   },
   "outputs": [
    {
     "data": {
      "image/png": "[encoded data removed]",
      "text/plain": [
       "<Figure size 864x432 with 1 Axes>"
      ]
     },
     "metadata": {
      "needs_background": "light"
     },
     "output_type": "display_data"
    }
   ],
   "source": [
    "# По категориям\n",
    "chain_by_category = df.groupby('category')['chain'].mean().sort_values(ascending=False) * 100\n",
    "\n",
    "plt.figure(figsize=(12, 6))\n",
    "\n",
    "# Построим диаграмму\n",
    "ax = sns.barplot(\n",
    "        x=chain_by_category.values,\n",
    "        y=chain_by_category.index,\n",
    "        palette=\"viridis\"\n",
    "    )\n",
    "\n",
    "# Добавляем проценты на столбцы\n",
    "for p in ax.patches:\n",
    "    ax.annotate(\n",
    "        f\"{p.get_width():.1f}%\",  # Форматируем до одного знака после запятой + знак %\n",
    "        (p.get_width(), p.get_y() + p.get_height()/2),\n",
    "        ha='left', \n",
    "        va='center',\n",
    "        xytext=(5, 0),\n",
    "        textcoords='offset points',\n",
    "        fontsize=10,\n",
    "        color='dimgray'\n",
    "    )\n",
    "\n",
    "plt.title('Доля сетевых заведений по категориям')\n",
    "plt.xlabel('Доля сетевых')\n",
    "plt.ylabel('')\n",
    "plt.xlim(0, chain_by_category.max() * 1.15)  # Добавляем отступ для текста\n",
    "plt.show()"
   ]
  },
  {
   "cell_type": "markdown",
   "id": "8ea6ecd8-6535-4193-91ef-4ee48008c0ca",
   "metadata": {
    "id": "a139bd72"
   },
   "source": [
    "**Вывод:**<br/>\n",
    "\n",
    "- Сетевые заведения составляют 38.1%.\n",
    "- Чаще всего сети встречаются среди булочных (61.3%), пиццерий (52.1%) и кофейн (51%)."
   ]
  },
  {
   "cell_type": "markdown",
   "id": "5913c3e3",
   "metadata": {
    "id": "5913c3e3",
    "panel-layout": {
     "height": 103.359375,
     "visible": true,
     "width": 100
    }
   },
   "source": [
    "---\n",
    "\n",
    "### 3.4. Анализ посадочных мест\n",
    "\n",
    "Исследуем количество посадочных мест в заведениях. Встречаются ли в данных аномальные значения или выбросы? Если да, то с чем они могут быть связаны? Приведем для каждой категории заведений наиболее типичное для него количество посадочных мест. Результат сопроводим подходящей визуализацией.\n"
   ]
  },
  {
   "cell_type": "code",
   "execution_count": 34,
   "id": "6cb238d2",
   "metadata": {
    "id": "6cb238d2"
   },
   "outputs": [
    {
     "data": {
      "image/png": "[encoded data removed]",
      "text/plain": [
       "<Figure size 1008x576 with 1 Axes>"
      ]
     },
     "metadata": {
      "needs_background": "light"
     },
     "output_type": "display_data"
    }
   ],
   "source": [
    "# Распределение мест по категориям\n",
    "plt.figure(figsize=(14,8))\n",
    "\n",
    "sns.boxplot(x='seats',\n",
    "            y='category',\n",
    "            data=df[df['category'].isin(category_dist.index)])\n",
    "\n",
    "plt.title('Распределение количества мест по категориям')\n",
    "plt.xlim(0, 300)\n",
    "plt.xlabel('Кол-во мест')\n",
    "plt.ylabel('')\n",
    "plt.show()"
   ]
  },
  {
   "cell_type": "markdown",
   "id": "e16d4669-11e5-45a1-9d63-2d98198cf6dd",
   "metadata": {},
   "source": [
    "Дополнительно выведем таблицу с медианой и IQR по каждой категории"
   ]
  },
  {
   "cell_type": "code",
   "execution_count": 35,
   "id": "1c63d9ab-de9b-4ea8-8659-f388f7ecdf86",
   "metadata": {},
   "outputs": [
    {
     "data": {
      "text/html": [
       "<div>\n",
       "<style scoped>\n",
       "    .dataframe tbody tr th:only-of-type {\n",
       "        vertical-align: middle;\n",
       "    }\n",
       "\n",
       "    .dataframe tbody tr th {\n",
       "        vertical-align: top;\n",
       "    }\n",
       "\n",
       "    .dataframe thead th {\n",
       "        text-align: right;\n",
       "    }\n",
       "</style>\n",
       "<table border=\"1\" class=\"dataframe\">\n",
       "  <thead>\n",
       "    <tr style=\"text-align: right;\">\n",
       "      <th></th>\n",
       "      <th>Медиана</th>\n",
       "      <th>IQR (Q3-Q1)</th>\n",
       "    </tr>\n",
       "    <tr>\n",
       "      <th>category</th>\n",
       "      <th></th>\n",
       "      <th></th>\n",
       "    </tr>\n",
       "  </thead>\n",
       "  <tbody>\n",
       "    <tr>\n",
       "      <th>ресторан</th>\n",
       "      <td>86</td>\n",
       "      <td>30.00</td>\n",
       "    </tr>\n",
       "    <tr>\n",
       "      <th>бар,паб</th>\n",
       "      <td>82</td>\n",
       "      <td>33.00</td>\n",
       "    </tr>\n",
       "    <tr>\n",
       "      <th>кофейня</th>\n",
       "      <td>80</td>\n",
       "      <td>12.00</td>\n",
       "    </tr>\n",
       "    <tr>\n",
       "      <th>столовая</th>\n",
       "      <td>75</td>\n",
       "      <td>8.00</td>\n",
       "    </tr>\n",
       "    <tr>\n",
       "      <th>быстрое питание</th>\n",
       "      <td>65</td>\n",
       "      <td>30.00</td>\n",
       "    </tr>\n",
       "    <tr>\n",
       "      <th>кафе</th>\n",
       "      <td>60</td>\n",
       "      <td>0.00</td>\n",
       "    </tr>\n",
       "    <tr>\n",
       "      <th>пиццерия</th>\n",
       "      <td>55</td>\n",
       "      <td>40.00</td>\n",
       "    </tr>\n",
       "    <tr>\n",
       "      <th>булочная</th>\n",
       "      <td>50</td>\n",
       "      <td>25.75</td>\n",
       "    </tr>\n",
       "  </tbody>\n",
       "</table>\n",
       "</div>"
      ],
      "text/plain": [
       "                 Медиана  IQR (Q3-Q1)\n",
       "category                             \n",
       "ресторан              86        30.00\n",
       "бар,паб               82        33.00\n",
       "кофейня               80        12.00\n",
       "столовая              75         8.00\n",
       "быстрое питание       65        30.00\n",
       "кафе                  60         0.00\n",
       "пиццерия              55        40.00\n",
       "булочная              50        25.75"
      ]
     },
     "metadata": {},
     "output_type": "display_data"
    }
   ],
   "source": [
    "# Рассчитываем медиану и IQR для каждой категории\n",
    "stats_table = df.groupby('category')['seats'].agg([\n",
    "    ('Медиана', 'median'),\n",
    "    ('IQR (Q3-Q1)', lambda x: x.quantile(0.75) - x.quantile(0.25))\n",
    "]).sort_values('Медиана', ascending=False)\n",
    "\n",
    "# Отображаем таблицу\n",
    "display(stats_table)"
   ]
  },
  {
   "cell_type": "markdown",
   "id": "77ec82cb-d5dd-435d-b55d-df44103b03c6",
   "metadata": {},
   "source": [
    "**Вывод:**<br/>\n",
    "\n",
    "1. Рестораны и бары/пабы\n",
    "    - Медиана: 86 и 82 места соответственно.\n",
    "    - IQR: 30 и 33.<br/>\n",
    "\n",
    "Это самые крупные заведения с большим количеством посадочных мест. Значительный межквартильный размах (IQR) указывает на сильную вариативность в размерах: есть как небольшие заведения, так и очень вместительные.\n",
    "\n",
    "2. Кофейни\n",
    "    - Медиана: 80 мест.\n",
    "    - IQR: 12.<br/>\n",
    "\n",
    "Кофейни имеют относительно высокую медиану, но малый разброс (IQR = 12). Это говорит о том, что большинство кофеен имеют схожее количество мест (около 80), что может быть связано с их стандартизированным форматом.\n",
    "\n",
    "3. Столовые\n",
    "    - Медиана: 75 мест.\n",
    "    - IQR: 8.<br/>\n",
    "\n",
    "Минимальный разброс (IQR = 8) указывает на высокую однородность столовых по количеству мест. Вероятно, это связано с типовыми проектами или ограничениями по площади.\n",
    "\n",
    "4. Быстрое питание\n",
    "    - Медиана: 65 мест.\n",
    "    - IQR: 30.<br/>\n",
    "\n",
    "Широкий разброс (IQR = 30) говорит о том, что в категории есть как небольшие точки (например, фуд-корты), так и полноценные заведения с обеденной зоной.\n",
    "\n",
    "5. Кафе\n",
    "    - Медиана: 60 мест.\n",
    "    - IQR: 0.<br/>\n",
    "\n",
    "Нулевой IQR — аномалия. Это может означать:\n",
    "- Ошибку в данных (например, все кафе в выборке имеют 60 мест).\n",
    "- Особенность категории (например, искусственное ограничение по лицензии).\n",
    "\n",
    "6. Пиццерии\n",
    "    - Медиана: 55 мест.\n",
    "    - IQR: 40.<br/>\n",
    "\n",
    "Самый большой разброс (IQR = 40) среди всех категорий. Это указывает на разнообразие форматов: от небольших заведений с доставкой до крупных семейных ресторанов.\n",
    "\n",
    "7. Булочные\n",
    "    - Медиана: 50 мест.\n",
    "    - IQR: 26.<br/>\n",
    "\n",
    "Умеренный разброс. Большинство булочных ориентированы на формат «кофе с собой», но есть и заведения с посадочными зонами."
   ]
  },
  {
   "cell_type": "markdown",
   "id": "8ed065ea",
   "metadata": {
    "id": "8ed065ea",
    "panel-layout": {
     "height": 86.21875,
     "visible": true,
     "width": 100
    }
   },
   "source": [
    "---\n",
    "\n",
    "### 3.5. Распределение рейтингов\n",
    "\n",
    "Исследуем рейтинг заведений. Визуализируем распределение средних рейтингов по категориям заведений. Сильно ли различаются усреднённые рейтинги для разных типов общепита?"
   ]
  },
  {
   "cell_type": "code",
   "execution_count": 36,
   "id": "cc5206f8",
   "metadata": {
    "id": "cc5206f8"
   },
   "outputs": [
    {
     "data": {
      "image/png": "[encoded data removed]",
      "text/plain": [
       "<Figure size 864x432 with 1 Axes>"
      ]
     },
     "metadata": {
      "needs_background": "light"
     },
     "output_type": "display_data"
    }
   ],
   "source": [
    "# Средние рейтинги по категориям\n",
    "rating_by_category = df.groupby('category')['rating'].mean().sort_values(ascending=False)\n",
    "\n",
    "plt.figure(figsize=(12, 6))\n",
    "\n",
    "# Построим диаграмму\n",
    "ax = sns.barplot(\n",
    "                x=rating_by_category.values,\n",
    "                y=rating_by_category.index,\n",
    "                palette=\"viridis\"\n",
    ")\n",
    "\n",
    "# Добавляем значения на столбцы\n",
    "for p in ax.patches:\n",
    "    ax.annotate(f\"{p.get_width():.2f}\",  # Значение ширины столбца (количество)\n",
    "                (p.get_width(), p.get_y() + p.get_height()/2),  # Позиция текста\n",
    "                ha='left', va='center',  # Выравнивание\n",
    "                xytext=(5, 0),           # Смещение относительно позиции\n",
    "                textcoords='offset points',\n",
    "                fontsize=10,\n",
    "                color='dimgrey')\n",
    "\n",
    "plt.title('Категории заведений по среднему рейтингу', pad=20)\n",
    "plt.xlabel('Средний рейтинг')\n",
    "plt.ylabel('')\n",
    "plt.xlim(3.9, 4.42)  # Добавляем отступ справа для текста\n",
    "plt.show()"
   ]
  },
  {
   "cell_type": "markdown",
   "id": "5113948f-ee93-445c-b323-5e3f9d218038",
   "metadata": {
    "id": "3e0ec5d7"
   },
   "source": [
    "**Вывод:**<br/>\n",
    "\n",
    "Самые высокие рейтинги у баров (4.39), пиццерий (4.30), и ресторанов (4.29). Кофейни на 4-м месте (4.28)."
   ]
  },
  {
   "cell_type": "markdown",
   "id": "dd9702d9",
   "metadata": {
    "id": "dd9702d9",
    "panel-layout": {
     "height": 120.5,
     "visible": true,
     "width": 100
    }
   },
   "source": [
    "---\n",
    "\n",
    "### 3.6. Корреляция рейтинга с другими параметрами\n",
    "\n",
    "Изучим, с какими данными показывают самую сильную корреляцию рейтинги заведений? Построим и визуализируем матрицу корреляции рейтинга заведения с разными данными: его категория, положение (административный район Москвы), статус сетевого заведения, количество мест, ценовая категория и признак, является ли заведения круглосуточным. Выберем самую сильную связь и проверим её."
   ]
  },
  {
   "cell_type": "code",
   "execution_count": 37,
   "id": "bd9d6f13-f9b7-46ac-8e2e-6a6b12529bcd",
   "metadata": {},
   "outputs": [
    {
     "data": {
      "image/png": "[encoded data removed]",
      "text/plain": [
       "<Figure size 432x360 with 2 Axes>"
      ]
     },
     "metadata": {
      "needs_background": "light"
     },
     "output_type": "display_data"
    }
   ],
   "source": [
    "# Выбираем только релевантные столбцы\n",
    "cols = [\n",
    "    'category', 'district', 'chain', 'seats', \n",
    "    'rating', 'price', 'middle_avg_bill', 'is_24_7'\n",
    "]\n",
    "\n",
    "# Удаляем строки с пропусками в ключевых столбцах\n",
    "df_clean = df[cols].dropna(subset=['rating', 'price', 'middle_avg_bill'])\n",
    "\n",
    "# Явно указываем числовые столбцы\n",
    "interval_cols = ['seats', 'middle_avg_bill']\n",
    "\n",
    "# Вычисляем матрицу pin_k\n",
    "corr_matrix = df_clean.phik_matrix(\n",
    "    interval_cols=interval_cols,\n",
    "    drop_overflow=False\n",
    ")\n",
    "\n",
    "# Извлекаем корреляции с рейтингом\n",
    "rating_corr = corr_matrix[['rating']].drop('rating', axis=0).sort_values(by='rating', ascending=False)\n",
    "\n",
    "plt.figure(figsize=(6, 5))\n",
    "\n",
    "# Построим матрицу с использованием цветовых градиентов\n",
    "sns.heatmap(rating_corr, \n",
    "            annot=True, \n",
    "            cmap='coolwarm', \n",
    "            vmin=-0.1, \n",
    "            vmax=0.3,\n",
    "            fmt=\".2f\",\n",
    "            linewidths=0.5)\n",
    "plt.title('Корреляция рейтинга с другими параметрами', pad=20)\n",
    "plt.show()"
   ]
  },
  {
   "cell_type": "markdown",
   "id": "f2bf1f78-7b29-4cbf-92a7-63fc5419f086",
   "metadata": {},
   "source": [
    "Ценовая категория (`price`) имеет умеренную положительную связь с рейтингом.<br/>\n",
    "\n",
    "- Гипотеза: Заведения с более высокой ценовой категорией получают больше положительных оценок.\n",
    "- Проверка: Сравните средние рейтинги по группам:"
   ]
  },
  {
   "cell_type": "code",
   "execution_count": 38,
   "id": "d4e8a413-7091-4588-bdef-196d0f93a6c7",
   "metadata": {},
   "outputs": [
    {
     "data": {
      "text/plain": [
       "price\n",
       "высокие          4.436611\n",
       "выше среднего    4.386348\n",
       "средние          4.297874\n",
       "низкие           4.173077\n",
       "не указано       4.166778\n",
       "Name: rating, dtype: float64"
      ]
     },
     "execution_count": 38,
     "metadata": {},
     "output_type": "execute_result"
    }
   ],
   "source": [
    "df.groupby('price')['rating'].mean().sort_values(ascending=False)"
   ]
  },
  {
   "cell_type": "markdown",
   "id": "14b9ed8c-d308-4c11-9e4e-982067365786",
   "metadata": {},
   "source": [
    "Категория заведения (`category`) влияет на рейтинг:"
   ]
  },
  {
   "cell_type": "code",
   "execution_count": 39,
   "id": "b17fc24a-1727-41fd-9c1f-3b83c6da8efc",
   "metadata": {},
   "outputs": [
    {
     "data": {
      "text/plain": [
       "category\n",
       "бар,паб            4.387696\n",
       "пиццерия           4.301264\n",
       "ресторан           4.290402\n",
       "кофейня            4.277282\n",
       "булочная           4.268359\n",
       "столовая           4.211429\n",
       "кафе               4.124285\n",
       "быстрое питание    4.050249\n",
       "Name: rating, dtype: float64"
      ]
     },
     "execution_count": 39,
     "metadata": {},
     "output_type": "execute_result"
    }
   ],
   "source": [
    "df.groupby('category')['rating'].mean().sort_values(ascending=False)"
   ]
  },
  {
   "cell_type": "markdown",
   "id": "adb40ab3-d853-43d0-97a5-28214e7a0c39",
   "metadata": {},
   "source": [
    "Административный район (`district`) влияет на рейтинг.<br/>\n",
    "\n",
    "- Гипотеза: В некоторых районах (например, Центральном) заведения в среднем получают более высокие оценки.\n",
    "- Проверка:"
   ]
  },
  {
   "cell_type": "code",
   "execution_count": 40,
   "id": "a5eb7512-2f04-4038-86dd-c4920ddee3ab",
   "metadata": {},
   "outputs": [
    {
     "data": {
      "text/html": [
       "<div>\n",
       "<style scoped>\n",
       "    .dataframe tbody tr th:only-of-type {\n",
       "        vertical-align: middle;\n",
       "    }\n",
       "\n",
       "    .dataframe tbody tr th {\n",
       "        vertical-align: top;\n",
       "    }\n",
       "\n",
       "    .dataframe thead th {\n",
       "        text-align: right;\n",
       "    }\n",
       "</style>\n",
       "<table border=\"1\" class=\"dataframe\">\n",
       "  <thead>\n",
       "    <tr style=\"text-align: right;\">\n",
       "      <th></th>\n",
       "      <th>mean</th>\n",
       "      <th>count</th>\n",
       "    </tr>\n",
       "    <tr>\n",
       "      <th>district</th>\n",
       "      <th></th>\n",
       "      <th></th>\n",
       "    </tr>\n",
       "  </thead>\n",
       "  <tbody>\n",
       "    <tr>\n",
       "      <th>Центральный АО</th>\n",
       "      <td>4.377520</td>\n",
       "      <td>2242</td>\n",
       "    </tr>\n",
       "    <tr>\n",
       "      <th>Северный АО</th>\n",
       "      <td>4.240980</td>\n",
       "      <td>898</td>\n",
       "    </tr>\n",
       "    <tr>\n",
       "      <th>Северо-Западный АО</th>\n",
       "      <td>4.208802</td>\n",
       "      <td>409</td>\n",
       "    </tr>\n",
       "    <tr>\n",
       "      <th>Южный АО</th>\n",
       "      <td>4.184417</td>\n",
       "      <td>892</td>\n",
       "    </tr>\n",
       "    <tr>\n",
       "      <th>Западный АО</th>\n",
       "      <td>4.181647</td>\n",
       "      <td>850</td>\n",
       "    </tr>\n",
       "    <tr>\n",
       "      <th>Восточный АО</th>\n",
       "      <td>4.174185</td>\n",
       "      <td>798</td>\n",
       "    </tr>\n",
       "    <tr>\n",
       "      <th>Юго-Западный АО</th>\n",
       "      <td>4.172920</td>\n",
       "      <td>709</td>\n",
       "    </tr>\n",
       "    <tr>\n",
       "      <th>Северо-Восточный АО</th>\n",
       "      <td>4.147978</td>\n",
       "      <td>890</td>\n",
       "    </tr>\n",
       "    <tr>\n",
       "      <th>Юго-Восточный АО</th>\n",
       "      <td>4.101120</td>\n",
       "      <td>714</td>\n",
       "    </tr>\n",
       "  </tbody>\n",
       "</table>\n",
       "</div>"
      ],
      "text/plain": [
       "                         mean  count\n",
       "district                            \n",
       "Центральный АО       4.377520   2242\n",
       "Северный АО          4.240980    898\n",
       "Северо-Западный АО   4.208802    409\n",
       "Южный АО             4.184417    892\n",
       "Западный АО          4.181647    850\n",
       "Восточный АО         4.174185    798\n",
       "Юго-Западный АО      4.172920    709\n",
       "Северо-Восточный АО  4.147978    890\n",
       "Юго-Восточный АО     4.101120    714"
      ]
     },
     "execution_count": 40,
     "metadata": {},
     "output_type": "execute_result"
    }
   ],
   "source": [
    "df.groupby('district')['rating'].agg(['mean', 'count']).sort_values('mean', ascending=False)"
   ]
  },
  {
   "cell_type": "markdown",
   "id": "6c74ab65-ec85-453c-949e-fc686d0b304a",
   "metadata": {},
   "source": [
    "Проверим самую сильную связь: `price` → `rating`"
   ]
  },
  {
   "cell_type": "code",
   "execution_count": 41,
   "id": "392505b6-0755-49c0-8ae5-3255839677f6",
   "metadata": {},
   "outputs": [
    {
     "data": {
      "image/png": "[encoded data removed]",
      "text/plain": [
       "<Figure size 576x576 with 1 Axes>"
      ]
     },
     "metadata": {
      "needs_background": "light"
     },
     "output_type": "display_data"
    }
   ],
   "source": [
    "plt.figure(figsize=(8, 8))\n",
    "\n",
    "sns.boxplot(x='price',\n",
    "            y='rating',\n",
    "            data=df_clean,\n",
    "            order=['низкие', 'средние', 'выше среднего', 'высокие'])\n",
    "\n",
    "plt.title('Распределение рейтинга по ценовым категориям')\n",
    "plt.xticks(rotation=0)\n",
    "plt.xlabel('Ценовая категория')\n",
    "plt.ylim(2.5, 5.1)\n",
    "plt.ylabel('Рейтинг')\n",
    "plt.show()"
   ]
  },
  {
   "cell_type": "markdown",
   "id": "6e1d0dd6-a209-4cd4-80fd-31d6bc8cf329",
   "metadata": {},
   "source": [
    "**Вывод:**<br/>\n",
    "\n",
    "1. Ценовая категория (`price`):\n",
    "\n",
    "- Открывать заведения в категориях \"выше среднего\" и \"высокие\".\n",
    "- Низкая ценовая категория может привеси к снижению рейтинга.\n",
    "\n",
    "2. Категория заведения (`category`):\n",
    "\n",
    "- Топ-категории: бар,паб, пиццерия, ресторан, кофейня.\n",
    "- Избегайть: Столовые, кафе и быстрое питание с низкими рейтингами.\n",
    "\n",
    "3. Район (`district`):\n",
    "\n",
    "- Приоритет: Центральный административный округ — высокая проходимость и платежеспособная аудитория.\n",
    "\n",
    "4. Круглосуточный режим (`is_24_7`):\n",
    "\n",
    "- Незначительное преимущество.\n",
    "\n",
    "5. Сетевой статус (`chain`):\n",
    "\n",
    "Сети не гарантируют высокий рейтинг. Лучше делать упор на уникальность."
   ]
  },
  {
   "cell_type": "markdown",
   "id": "370de703",
   "metadata": {
    "id": "370de703",
    "panel-layout": {
     "height": 103.359375,
     "visible": true,
     "width": 100
    }
   },
   "source": [
    "---\n",
    "\n",
    "### 3.7. Топ-15 сетей\n",
    "\n",
    "Сгруппируем данные по названиям заведений и найдите топ-15 популярных сетей в Москве. Для них посчитаем значения среднего рейтинга. Под популярностью понимаем количество заведений этой сети в регионе. К какой категории заведений они относятся? Результат сопроводим подходящими визуализациями."
   ]
  },
  {
   "cell_type": "code",
   "execution_count": 42,
   "id": "5d828a9a",
   "metadata": {
    "id": "5d828a9a"
   },
   "outputs": [
    {
     "data": {
      "image/png": "[encoded data removed]",
      "text/plain": [
       "<Figure size 864x432 with 1 Axes>"
      ]
     },
     "metadata": {
      "needs_background": "light"
     },
     "output_type": "display_data"
    }
   ],
   "source": [
    "top_chains = df[df['chain']].groupby('name_normalized').agg({'id':'count', 'rating':'mean', 'category':'first'})\n",
    "top_chains = top_chains[top_chains['id'] >= 5].sort_values('id', ascending=False).head(15)\n",
    "\n",
    "plt.figure(figsize=(12,6))\n",
    "\n",
    "# Построим диаграмму\n",
    "ax = sns.barplot(x=top_chains['id'],\n",
    "                y=top_chains.index,\n",
    "                palette=\"viridis\")\n",
    "\n",
    "# Добавляем значения на столбцы\n",
    "for p in ax.patches:\n",
    "    ax.annotate(f\"{int(p.get_width())}\",  # Значение ширины столбца (количество)\n",
    "                (p.get_width(), p.get_y() + p.get_height()/2),  # Позиция текста\n",
    "                ha='left', va='center',  # Выравнивание\n",
    "                xytext=(5, 0),           # Смещение относительно позиции\n",
    "                textcoords='offset points',\n",
    "                fontsize=10,\n",
    "                color='dimgrey')\n",
    "\n",
    "plt.title('Топ-15 сетей по количеству заведений')\n",
    "plt.xlabel('Количество')\n",
    "plt.ylabel('')\n",
    "plt.xlim(0, top_chains['id'].max() * 1.05)  # Добавляем отступ справа для текста\n",
    "plt.show()"
   ]
  },
  {
   "cell_type": "markdown",
   "id": "6b346b0b-991c-421e-a3ba-8c34c1bbca6e",
   "metadata": {
    "id": "d013c598"
   },
   "source": [
    "**Вывод:**<br/>\n",
    "\n",
    "Лидеры - \"Шоколадница\" (120), \"домино'с пицца\" (76), \"додо пицца\" (74). Большинство сетей - кофейни и пиццерии."
   ]
  },
  {
   "cell_type": "markdown",
   "id": "85a90a94",
   "metadata": {
    "id": "85a90a94",
    "panel-layout": {
     "height": 104.359375,
     "visible": true,
     "width": 100
    }
   },
   "source": [
    "---\n",
    "\n",
    "### 3.8. Средний чек по районам\n",
    "\n",
    "Изучим вариацию среднего чека заведения (столбец `middle_avg_bill`) в зависимости от района Москвы. Проанализируем цены в Центральном административном округе и других. Как удалённость от центра влияет на цены в заведениях?\n"
   ]
  },
  {
   "cell_type": "code",
   "execution_count": 43,
   "id": "5fb4ffc6",
   "metadata": {
    "id": "5fb4ffc6"
   },
   "outputs": [
    {
     "data": {
      "image/png": "[encoded data removed]",
      "text/plain": [
       "<Figure size 432x360 with 1 Axes>"
      ]
     },
     "metadata": {
      "needs_background": "light"
     },
     "output_type": "display_data"
    }
   ],
   "source": [
    "# Средний чек в Центре vs другие\n",
    "central_avg = df[df['district'] == 'Центральный АО']['middle_avg_bill'].median()\n",
    "non_central_avg = df[df['district'] != 'Центральный АО']['middle_avg_bill'].median()\n",
    "\n",
    "plt.figure(figsize=(6, 5))\n",
    "ax = sns.barplot(\n",
    "    x=['Центр', 'Другие районы'],\n",
    "    y=[central_avg, non_central_avg],\n",
    "    palette=\"pastel\"\n",
    ")\n",
    "\n",
    "# Добавляем значения на столбцы\n",
    "for p in ax.patches:\n",
    "    ax.annotate(\n",
    "        f\"₽{p.get_height():.0f}\",  # Форматируем как рубли без копеек\n",
    "        (p.get_x() + p.get_width() / 2, p.get_height()),  # Позиция по центру столбца\n",
    "        ha='center', \n",
    "        va='bottom',\n",
    "        xytext=(0, 5),  # Смещение текста вверх\n",
    "        textcoords='offset points',\n",
    "        fontsize=12,\n",
    "        color='dimgrey'\n",
    "    )\n",
    "\n",
    "plt.title('Средний чек в Центральном округе vs остальные', pad=15)\n",
    "plt.ylabel('Медианный средний чек (₽)')\n",
    "plt.ylim(0, max(central_avg, non_central_avg) * 1.15)  # +15% отступ сверху\n",
    "plt.grid(axis='y', linestyle='--', alpha=0.7)\n",
    "plt.show()"
   ]
  },
  {
   "cell_type": "markdown",
   "id": "c7412d56-977c-4346-8418-fe193230d3ab",
   "metadata": {
    "id": "b98066c1"
   },
   "source": [
    "**Вывод:**<br/>\n",
    "\n",
    "В центре средний чек выше на 40% (1000 ₽ vs 600 ₽ в других районах)"
   ]
  },
  {
   "cell_type": "markdown",
   "id": "f2c54e9a",
   "metadata": {
    "id": "f2c54e9a",
    "panel-layout": {
     "height": 86.21875,
     "visible": true,
     "width": 100
    }
   },
   "source": [
    "---\n",
    "\n",
    "### 3.9. Промежуточный вывод\n",
    "\n",
    "Обобщим полученные результаты, выделим самые важные."
   ]
  },
  {
   "cell_type": "markdown",
   "id": "aebef8c4-9341-451e-aaed-cb76f0a209e0",
   "metadata": {
    "id": "c8869609"
   },
   "source": [
    "**1. Категории заведений:**<br/>\n",
    "\n",
    "- Кафе, рестораны и кофейни составляют 70% рынка, что указывает на высокую конкуренцию, но и стабильный спрос.\n",
    "- Столовые и бары занимают нишевые позиции (4.9% и 5.5% соответственно), что может быть как риском, так и возможностью для дифференциации.\n",
    "\n",
    "**2. Распределение по районам:**<br/>\n",
    "\n",
    "- Центральный АО доминирует (26.7% заведений), здесь преобладают рестораны и кофейни. Это зона высокой конкуренции, но и повышенного спроса.\n",
    "- В других округах (например, Северный, Южный) распределение более равномерное, что может быть перспективным для новых проектов.\n",
    "\n",
    "**3. Сетевые vs несетевые:**<br/>\n",
    "\n",
    "- 38.1% заведений — сетевые. Лидеры: булочные (61.3%), пиццерии (52.1%), кофейни (51%).\n",
    "- Несетевые заведения чаще встречаются среди ресторанов и баров, где уникальность критична.\n",
    "\n",
    "**4. Посадочные места:**<br/>\n",
    "\n",
    "- Рестораны и бары имеют наибольшее количество мест (медиана 86 и 82), что соответствует их формату.\n",
    "- Кофейны и столовые демонстрируют меньший разброс (IQR 12 и 8), указывая на стандартизацию.\n",
    "- Аномалия: кафе имеют фиксированную медиану 60 мест (IQR=0).\n",
    "\n",
    "**5. Рейтинги:**<br/>\n",
    "\n",
    "- Самые высокие оценки у баров (4.39), пиццерий (4.30), ресторанов (4.29).\n",
    "- Низкие рейтинги у столовых (4.21) и фастфуда (4.05), что может быть связано с качеством обслуживания.\n",
    "\n",
    "**6. Корреляции:**<br/>\n",
    "\n",
    "- Ценовая категория и рейтинг положительно связаны: заведения с ценами «выше среднего» имеют более высокие оценки (4.43).\n",
    "- Центральный округ коррелирует с высокими рейтингами (4.38), что объясняется концентрацией премиальных заведений.\n",
    "\n",
    "**7. Топ сетей:**<br/>\n",
    "\n",
    "- Лидеры: Шоколадница (120 заведений), Додо Пицца (74), Домино’с (76).\n",
    "- Средние рейтинги сетей (4.0–4.3) указывают на стабильность, но отсутствие уникальности.\n",
    "\n",
    "**8. Средний чек:**<br/>\n",
    "\n",
    "- В Центральном округе медианный чек 1000 ₽ против 600 ₽ в других районах. Разрыв в 40% отражает различия в аудитории и затратах."
   ]
  },
  {
   "cell_type": "markdown",
   "id": "480f3422",
   "metadata": {
    "id": "480f3422",
    "panel-layout": {
     "height": 194.09375,
     "visible": true,
     "width": 100
    }
   },
   "source": [
    "## 4. Итоговый вывод и рекомендации\n"
   ]
  },
  {
   "cell_type": "markdown",
   "id": "fe672f81-9dc5-463a-b569-692a5d814040",
   "metadata": {},
   "source": [
    "**1. Общий обзор проделанной работы**<br/>\n",
    "\n",
    "Проведён анализ 8406 заведений Москвы с акцентом на категории, локации, сетевой статус, рейтинги и цены. Выявлены ключевые закономерности, влияющие на успешность проектов в сфере общепита.\n",
    "\n",
    "**2. Главные выводы**<br/>\n",
    "\n",
    "Категории:\n",
    "- Кафе, рестораны, кофейни — самые распространённые, но высококонкурентные.\n",
    "- Пиццерии и булочные чаще являются сетевыми.\n",
    "\n",
    "Локация:\n",
    "- Центральный АО — лидер по количеству заведений и среднему чеку, но высокая аренда и конкуренция.\n",
    "- В других округах ниже конкуренция, но и платежеспособность аудитории.\n",
    "\n",
    "Рейтинги:\n",
    "- Зависят от ценовой категории и специализации. Премиум-сегмент ассоциируется с высокими оценками.\n",
    "\n",
    "Сети:\n",
    "- Сетевые форматы доминируют в сегментах с низким порогом входа (кофейни, пиццерии).\n",
    "\n",
    "Цены:\n",
    "- Средний чек в Центре на 40% выше, чем в других районах.\n",
    "\n",
    "**3. Рекомендации**<br/>\n",
    "\n",
    "Выбор формата:\n",
    "- Сетевые проекты: Пиццерии или кофейни (низкие операционные риски, стандартизация).\n",
    "- Премиум-сегмент: Рестораны или бары в Центральном АО (высокий чек, но требуют уникальности).\n",
    "\n",
    "Локация:\n",
    "- Центральный АО: Для премиальных заведений с упором на качество и атмосферу.\n",
    "- Спальные районы: Кафе или демократичные кофейни с акцентом на доступность.\n",
    "\n",
    "Ценовая политика:\n",
    "- В Центре — категории «выше среднего» (средний чек 1000–1500 ₽).\n",
    "- В других районах — «средние» цены (500–800 ₽) для привлечения местной аудитории.\n",
    "\n",
    "Оптимизация мест:\n",
    "- Для кофеен — 60-80 посадочных мест, для ресторанов — 80-100.\n",
    "\n",
    "Дифференциация:\n",
    "- Внедрить уникальное меню или концепцию.\n",
    "\n",
    "**Заключение:**<br/>\n",
    "\n",
    "Наиболее перспективны сетевые кофейни или пиццерии в спальных районах с демократичными ценами либо премиальные рестораны в Центральном округе. Ключевые факторы успеха — баланс между локацией, ценовой политикой и уникальностью концепции."
   ]
  },
  {
   "cell_type": "code",
   "execution_count": null,
   "id": "57d85890",
   "metadata": {},
   "outputs": [],
   "source": []
  }
 ],
 "metadata": {
  "ExecuteTimeLog": [
   {
    "duration": 54,
    "start_time": "2025-04-15T05:26:03.285Z"
   },
   {
    "duration": 1488,
    "start_time": "2025-04-15T05:26:20.129Z"
   },
   {
    "duration": 0,
    "start_time": "2025-04-15T05:26:21.619Z"
   },
   {
    "duration": 0,
    "start_time": "2025-04-15T05:26:21.621Z"
   },
   {
    "duration": 0,
    "start_time": "2025-04-15T05:26:21.622Z"
   },
   {
    "duration": 0,
    "start_time": "2025-04-15T05:26:21.623Z"
   },
   {
    "duration": 0,
    "start_time": "2025-04-15T05:26:21.625Z"
   },
   {
    "duration": 0,
    "start_time": "2025-04-15T05:26:21.626Z"
   },
   {
    "duration": 0,
    "start_time": "2025-04-15T05:26:21.627Z"
   },
   {
    "duration": 0,
    "start_time": "2025-04-15T05:26:21.628Z"
   },
   {
    "duration": 0,
    "start_time": "2025-04-15T05:26:21.629Z"
   },
   {
    "duration": 0,
    "start_time": "2025-04-15T05:26:21.630Z"
   },
   {
    "duration": 0,
    "start_time": "2025-04-15T05:26:21.631Z"
   },
   {
    "duration": 0,
    "start_time": "2025-04-15T05:26:21.632Z"
   },
   {
    "duration": 0,
    "start_time": "2025-04-15T05:26:21.633Z"
   },
   {
    "duration": 0,
    "start_time": "2025-04-15T05:26:21.634Z"
   },
   {
    "duration": 0,
    "start_time": "2025-04-15T05:26:21.635Z"
   },
   {
    "duration": 0,
    "start_time": "2025-04-15T05:26:21.636Z"
   },
   {
    "duration": 0,
    "start_time": "2025-04-15T05:26:21.637Z"
   },
   {
    "duration": 0,
    "start_time": "2025-04-15T05:26:21.638Z"
   },
   {
    "duration": 0,
    "start_time": "2025-04-15T05:26:21.639Z"
   },
   {
    "duration": 0,
    "start_time": "2025-04-15T05:26:21.641Z"
   },
   {
    "duration": 0,
    "start_time": "2025-04-15T05:26:21.642Z"
   },
   {
    "duration": 0,
    "start_time": "2025-04-15T05:26:21.676Z"
   },
   {
    "duration": 0,
    "start_time": "2025-04-15T05:26:21.678Z"
   },
   {
    "duration": 0,
    "start_time": "2025-04-15T05:26:21.679Z"
   },
   {
    "duration": 0,
    "start_time": "2025-04-15T05:26:21.679Z"
   },
   {
    "duration": 0,
    "start_time": "2025-04-15T05:26:21.681Z"
   },
   {
    "duration": 0,
    "start_time": "2025-04-15T05:26:21.682Z"
   },
   {
    "duration": 0,
    "start_time": "2025-04-15T05:26:21.683Z"
   },
   {
    "duration": 0,
    "start_time": "2025-04-15T05:26:21.684Z"
   },
   {
    "duration": 0,
    "start_time": "2025-04-15T05:26:21.685Z"
   },
   {
    "duration": 0,
    "start_time": "2025-04-15T05:26:21.686Z"
   },
   {
    "duration": 0,
    "start_time": "2025-04-15T05:26:21.687Z"
   },
   {
    "duration": 0,
    "start_time": "2025-04-15T05:26:21.688Z"
   },
   {
    "duration": 3515,
    "start_time": "2025-04-15T05:28:09.875Z"
   },
   {
    "duration": 3770,
    "start_time": "2025-04-15T05:28:26.232Z"
   },
   {
    "duration": 370,
    "start_time": "2025-04-15T05:28:30.004Z"
   },
   {
    "duration": 18,
    "start_time": "2025-04-15T05:28:30.376Z"
   },
   {
    "duration": 72,
    "start_time": "2025-04-15T05:28:30.396Z"
   },
   {
    "duration": 36,
    "start_time": "2025-04-15T05:28:30.470Z"
   },
   {
    "duration": 72,
    "start_time": "2025-04-15T05:28:30.508Z"
   },
   {
    "duration": 53,
    "start_time": "2025-04-15T05:28:30.581Z"
   },
   {
    "duration": 18,
    "start_time": "2025-04-15T05:28:30.636Z"
   },
   {
    "duration": 4,
    "start_time": "2025-04-15T05:28:30.655Z"
   },
   {
    "duration": 12,
    "start_time": "2025-04-15T05:28:30.662Z"
   },
   {
    "duration": 16,
    "start_time": "2025-04-15T05:28:30.675Z"
   },
   {
    "duration": 4,
    "start_time": "2025-04-15T05:28:30.693Z"
   },
   {
    "duration": 6,
    "start_time": "2025-04-15T05:28:30.698Z"
   },
   {
    "duration": 5,
    "start_time": "2025-04-15T05:28:30.705Z"
   },
   {
    "duration": 67,
    "start_time": "2025-04-15T05:28:30.712Z"
   },
   {
    "duration": 16,
    "start_time": "2025-04-15T05:28:30.780Z"
   },
   {
    "duration": 17,
    "start_time": "2025-04-15T05:28:30.797Z"
   },
   {
    "duration": 2180,
    "start_time": "2025-04-15T05:28:30.817Z"
   },
   {
    "duration": 17,
    "start_time": "2025-04-15T05:28:32.999Z"
   },
   {
    "duration": 300,
    "start_time": "2025-04-15T05:28:33.018Z"
   },
   {
    "duration": 0,
    "start_time": "2025-04-15T05:28:33.321Z"
   },
   {
    "duration": 0,
    "start_time": "2025-04-15T05:28:33.323Z"
   },
   {
    "duration": 0,
    "start_time": "2025-04-15T05:28:33.325Z"
   },
   {
    "duration": 0,
    "start_time": "2025-04-15T05:28:33.326Z"
   },
   {
    "duration": 0,
    "start_time": "2025-04-15T05:28:33.328Z"
   },
   {
    "duration": 0,
    "start_time": "2025-04-15T05:28:33.329Z"
   },
   {
    "duration": 0,
    "start_time": "2025-04-15T05:28:33.331Z"
   },
   {
    "duration": 0,
    "start_time": "2025-04-15T05:28:33.333Z"
   },
   {
    "duration": 0,
    "start_time": "2025-04-15T05:28:33.334Z"
   },
   {
    "duration": 0,
    "start_time": "2025-04-15T05:28:33.335Z"
   },
   {
    "duration": 0,
    "start_time": "2025-04-15T05:28:33.337Z"
   },
   {
    "duration": 0,
    "start_time": "2025-04-15T05:28:33.339Z"
   },
   {
    "duration": 0,
    "start_time": "2025-04-15T05:28:33.340Z"
   },
   {
    "duration": 0,
    "start_time": "2025-04-15T05:28:33.376Z"
   },
   {
    "duration": 214,
    "start_time": "2025-04-15T05:35:15.312Z"
   },
   {
    "duration": 313,
    "start_time": "2025-04-15T05:35:40.496Z"
   },
   {
    "duration": 170,
    "start_time": "2025-04-15T05:35:59.349Z"
   },
   {
    "duration": 209,
    "start_time": "2025-04-15T05:36:27.734Z"
   },
   {
    "duration": 79,
    "start_time": "2025-04-15T05:36:40.189Z"
   },
   {
    "duration": 86,
    "start_time": "2025-04-15T05:37:03.615Z"
   },
   {
    "duration": 208,
    "start_time": "2025-04-15T05:37:21.725Z"
   },
   {
    "duration": 264,
    "start_time": "2025-04-15T05:37:30.454Z"
   },
   {
    "duration": 24,
    "start_time": "2025-04-15T05:37:56.734Z"
   },
   {
    "duration": 185,
    "start_time": "2025-04-15T05:38:18.008Z"
   },
   {
    "duration": 274,
    "start_time": "2025-04-15T05:38:52.355Z"
   },
   {
    "duration": 355,
    "start_time": "2025-04-15T05:39:06.908Z"
   },
   {
    "duration": 256,
    "start_time": "2025-04-15T05:39:26.674Z"
   },
   {
    "duration": 199,
    "start_time": "2025-04-15T05:39:40.066Z"
   },
   {
    "duration": 664,
    "start_time": "2025-04-15T05:39:56.600Z"
   },
   {
    "duration": 555,
    "start_time": "2025-04-15T05:40:27.454Z"
   },
   {
    "duration": 545,
    "start_time": "2025-04-15T05:40:34.320Z"
   },
   {
    "duration": 8,
    "start_time": "2025-04-15T05:40:52.611Z"
   },
   {
    "duration": 8,
    "start_time": "2025-04-15T05:40:54.404Z"
   },
   {
    "duration": 13,
    "start_time": "2025-04-15T05:40:57.654Z"
   },
   {
    "duration": 132,
    "start_time": "2025-04-15T05:41:07.024Z"
   },
   {
    "duration": 130,
    "start_time": "2025-04-15T05:41:22.634Z"
   },
   {
    "duration": 186,
    "start_time": "2025-04-15T05:41:30.809Z"
   },
   {
    "duration": 172,
    "start_time": "2025-04-15T05:42:40.104Z"
   },
   {
    "duration": 303,
    "start_time": "2025-04-15T05:42:49.671Z"
   },
   {
    "duration": 177,
    "start_time": "2025-04-15T05:42:58.565Z"
   },
   {
    "duration": 174,
    "start_time": "2025-04-15T05:43:08.783Z"
   },
   {
    "duration": 169,
    "start_time": "2025-04-15T05:43:24.744Z"
   },
   {
    "duration": 183,
    "start_time": "2025-04-15T05:43:39.495Z"
   },
   {
    "duration": 171,
    "start_time": "2025-04-15T05:43:49.695Z"
   },
   {
    "duration": 193,
    "start_time": "2025-04-15T05:44:12.326Z"
   },
   {
    "duration": 203,
    "start_time": "2025-04-15T05:44:33.513Z"
   },
   {
    "duration": 167,
    "start_time": "2025-04-15T05:44:50.583Z"
   },
   {
    "duration": 48,
    "start_time": "2025-04-15T05:45:12.047Z"
   },
   {
    "duration": 310,
    "start_time": "2025-04-15T05:45:22.762Z"
   },
   {
    "duration": 286,
    "start_time": "2025-04-15T05:45:50.436Z"
   },
   {
    "duration": 175,
    "start_time": "2025-04-15T05:46:20.542Z"
   },
   {
    "duration": 178,
    "start_time": "2025-04-15T05:46:29.611Z"
   },
   {
    "duration": 125,
    "start_time": "2025-04-15T05:47:04.897Z"
   },
   {
    "duration": 133,
    "start_time": "2025-04-15T05:47:22.067Z"
   },
   {
    "duration": 3872,
    "start_time": "2025-04-15T05:57:34.844Z"
   },
   {
    "duration": 216,
    "start_time": "2025-04-15T05:57:38.718Z"
   },
   {
    "duration": 17,
    "start_time": "2025-04-15T05:57:38.936Z"
   },
   {
    "duration": 15,
    "start_time": "2025-04-15T05:57:38.955Z"
   },
   {
    "duration": 19,
    "start_time": "2025-04-15T05:57:38.972Z"
   },
   {
    "duration": 36,
    "start_time": "2025-04-15T05:57:38.993Z"
   },
   {
    "duration": 13,
    "start_time": "2025-04-15T05:57:39.030Z"
   },
   {
    "duration": 22,
    "start_time": "2025-04-15T05:57:39.045Z"
   },
   {
    "duration": 3,
    "start_time": "2025-04-15T05:57:39.069Z"
   },
   {
    "duration": 8,
    "start_time": "2025-04-15T05:57:39.075Z"
   },
   {
    "duration": 4,
    "start_time": "2025-04-15T05:57:39.085Z"
   },
   {
    "duration": 8,
    "start_time": "2025-04-15T05:57:39.091Z"
   },
   {
    "duration": 5,
    "start_time": "2025-04-15T05:57:39.100Z"
   },
   {
    "duration": 6,
    "start_time": "2025-04-15T05:57:39.106Z"
   },
   {
    "duration": 71,
    "start_time": "2025-04-15T05:57:39.113Z"
   },
   {
    "duration": 15,
    "start_time": "2025-04-15T05:57:39.186Z"
   },
   {
    "duration": 16,
    "start_time": "2025-04-15T05:57:39.202Z"
   },
   {
    "duration": 2094,
    "start_time": "2025-04-15T05:57:39.220Z"
   },
   {
    "duration": 16,
    "start_time": "2025-04-15T05:57:41.315Z"
   },
   {
    "duration": 260,
    "start_time": "2025-04-15T05:57:41.332Z"
   },
   {
    "duration": 253,
    "start_time": "2025-04-15T05:57:41.593Z"
   },
   {
    "duration": 334,
    "start_time": "2025-04-15T05:57:41.848Z"
   },
   {
    "duration": 92,
    "start_time": "2025-04-15T05:57:42.184Z"
   },
   {
    "duration": 226,
    "start_time": "2025-04-15T05:57:42.278Z"
   },
   {
    "duration": 273,
    "start_time": "2025-04-15T05:57:42.506Z"
   },
   {
    "duration": 24,
    "start_time": "2025-04-15T05:57:42.781Z"
   },
   {
    "duration": 218,
    "start_time": "2025-04-15T05:57:42.807Z"
   },
   {
    "duration": 617,
    "start_time": "2025-04-15T05:57:43.028Z"
   },
   {
    "duration": 7,
    "start_time": "2025-04-15T05:57:43.646Z"
   },
   {
    "duration": 7,
    "start_time": "2025-04-15T05:57:43.655Z"
   },
   {
    "duration": 11,
    "start_time": "2025-04-15T05:57:43.676Z"
   },
   {
    "duration": 178,
    "start_time": "2025-04-15T05:57:43.689Z"
   },
   {
    "duration": 302,
    "start_time": "2025-04-15T05:57:43.868Z"
   },
   {
    "duration": 143,
    "start_time": "2025-04-15T05:57:44.172Z"
   },
   {
    "duration": 4068,
    "start_time": "2025-04-15T06:00:34.661Z"
   },
   {
    "duration": 152,
    "start_time": "2025-04-15T06:00:38.732Z"
   },
   {
    "duration": 17,
    "start_time": "2025-04-15T06:00:38.886Z"
   },
   {
    "duration": 24,
    "start_time": "2025-04-15T06:00:38.904Z"
   },
   {
    "duration": 18,
    "start_time": "2025-04-15T06:00:38.930Z"
   },
   {
    "duration": 34,
    "start_time": "2025-04-15T06:00:38.950Z"
   },
   {
    "duration": 33,
    "start_time": "2025-04-15T06:00:38.985Z"
   },
   {
    "duration": 42,
    "start_time": "2025-04-15T06:00:39.020Z"
   },
   {
    "duration": 4,
    "start_time": "2025-04-15T06:00:39.064Z"
   },
   {
    "duration": 20,
    "start_time": "2025-04-15T06:00:39.071Z"
   },
   {
    "duration": 7,
    "start_time": "2025-04-15T06:00:39.093Z"
   },
   {
    "duration": 22,
    "start_time": "2025-04-15T06:00:39.102Z"
   },
   {
    "duration": 15,
    "start_time": "2025-04-15T06:00:39.126Z"
   },
   {
    "duration": 17,
    "start_time": "2025-04-15T06:00:39.145Z"
   },
   {
    "duration": 60,
    "start_time": "2025-04-15T06:00:39.164Z"
   },
   {
    "duration": 16,
    "start_time": "2025-04-15T06:00:39.226Z"
   },
   {
    "duration": 40,
    "start_time": "2025-04-15T06:00:39.244Z"
   },
   {
    "duration": 2149,
    "start_time": "2025-04-15T06:00:39.286Z"
   },
   {
    "duration": 17,
    "start_time": "2025-04-15T06:00:41.437Z"
   },
   {
    "duration": 250,
    "start_time": "2025-04-15T06:00:41.457Z"
   },
   {
    "duration": 261,
    "start_time": "2025-04-15T06:00:41.709Z"
   },
   {
    "duration": 316,
    "start_time": "2025-04-15T06:00:41.976Z"
   },
   {
    "duration": 99,
    "start_time": "2025-04-15T06:00:42.293Z"
   },
   {
    "duration": 226,
    "start_time": "2025-04-15T06:00:42.393Z"
   },
   {
    "duration": 282,
    "start_time": "2025-04-15T06:00:42.621Z"
   },
   {
    "duration": 23,
    "start_time": "2025-04-15T06:00:42.904Z"
   },
   {
    "duration": 215,
    "start_time": "2025-04-15T06:00:42.929Z"
   },
   {
    "duration": 618,
    "start_time": "2025-04-15T06:00:43.146Z"
   },
   {
    "duration": 11,
    "start_time": "2025-04-15T06:00:43.766Z"
   },
   {
    "duration": 53,
    "start_time": "2025-04-15T06:00:43.779Z"
   },
   {
    "duration": 12,
    "start_time": "2025-04-15T06:00:43.834Z"
   },
   {
    "duration": 175,
    "start_time": "2025-04-15T06:00:43.848Z"
   },
   {
    "duration": 305,
    "start_time": "2025-04-15T06:00:44.025Z"
   },
   {
    "duration": 145,
    "start_time": "2025-04-15T06:00:44.331Z"
   },
   {
    "duration": 51,
    "start_time": "2025-04-15T08:36:33.993Z"
   },
   {
    "duration": 4100,
    "start_time": "2025-04-15T08:52:01.299Z"
   },
   {
    "duration": 1189,
    "start_time": "2025-04-15T08:53:31.697Z"
   },
   {
    "duration": 305,
    "start_time": "2025-04-15T08:53:32.889Z"
   },
   {
    "duration": 14,
    "start_time": "2025-04-15T08:53:33.196Z"
   },
   {
    "duration": 12,
    "start_time": "2025-04-15T08:53:33.212Z"
   },
   {
    "duration": 8,
    "start_time": "2025-04-15T08:53:33.226Z"
   },
   {
    "duration": 14,
    "start_time": "2025-04-15T08:53:33.236Z"
   },
   {
    "duration": 17,
    "start_time": "2025-04-15T08:53:33.251Z"
   },
   {
    "duration": 34,
    "start_time": "2025-04-15T08:53:33.271Z"
   },
   {
    "duration": 4,
    "start_time": "2025-04-15T08:53:33.307Z"
   },
   {
    "duration": 10,
    "start_time": "2025-04-15T08:53:33.314Z"
   },
   {
    "duration": 10,
    "start_time": "2025-04-15T08:53:33.325Z"
   },
   {
    "duration": 21,
    "start_time": "2025-04-15T08:53:33.336Z"
   },
   {
    "duration": 34,
    "start_time": "2025-04-15T08:53:33.359Z"
   },
   {
    "duration": 15,
    "start_time": "2025-04-15T08:53:33.395Z"
   },
   {
    "duration": 95,
    "start_time": "2025-04-15T08:53:33.411Z"
   },
   {
    "duration": 17,
    "start_time": "2025-04-15T08:53:33.508Z"
   },
   {
    "duration": 172,
    "start_time": "2025-04-15T08:53:33.526Z"
   },
   {
    "duration": 2236,
    "start_time": "2025-04-15T08:53:33.700Z"
   },
   {
    "duration": 13,
    "start_time": "2025-04-15T08:53:35.938Z"
   },
   {
    "duration": 256,
    "start_time": "2025-04-15T08:53:35.953Z"
   },
   {
    "duration": 226,
    "start_time": "2025-04-15T08:53:36.211Z"
   },
   {
    "duration": 253,
    "start_time": "2025-04-15T08:53:36.439Z"
   },
   {
    "duration": 83,
    "start_time": "2025-04-15T08:53:36.694Z"
   },
   {
    "duration": 197,
    "start_time": "2025-04-15T08:53:36.779Z"
   },
   {
    "duration": 241,
    "start_time": "2025-04-15T08:53:36.977Z"
   },
   {
    "duration": 23,
    "start_time": "2025-04-15T08:53:37.220Z"
   },
   {
    "duration": 203,
    "start_time": "2025-04-15T08:53:37.245Z"
   },
   {
    "duration": 122,
    "start_time": "2025-04-15T08:53:37.451Z"
   },
   {
    "duration": 0,
    "start_time": "2025-04-15T08:53:37.575Z"
   },
   {
    "duration": 0,
    "start_time": "2025-04-15T08:53:37.577Z"
   },
   {
    "duration": 0,
    "start_time": "2025-04-15T08:53:37.578Z"
   },
   {
    "duration": 0,
    "start_time": "2025-04-15T08:53:37.580Z"
   },
   {
    "duration": 0,
    "start_time": "2025-04-15T08:53:37.581Z"
   },
   {
    "duration": 0,
    "start_time": "2025-04-15T08:53:37.582Z"
   },
   {
    "duration": 151,
    "start_time": "2025-04-15T08:55:21.975Z"
   },
   {
    "duration": 490,
    "start_time": "2025-04-15T08:56:10.186Z"
   },
   {
    "duration": 1104,
    "start_time": "2025-04-15T08:56:28.802Z"
   },
   {
    "duration": 232,
    "start_time": "2025-04-15T08:56:29.908Z"
   },
   {
    "duration": 20,
    "start_time": "2025-04-15T08:56:30.143Z"
   },
   {
    "duration": 48,
    "start_time": "2025-04-15T08:56:30.165Z"
   },
   {
    "duration": 28,
    "start_time": "2025-04-15T08:56:30.215Z"
   },
   {
    "duration": 35,
    "start_time": "2025-04-15T08:56:30.245Z"
   },
   {
    "duration": 30,
    "start_time": "2025-04-15T08:56:30.282Z"
   },
   {
    "duration": 28,
    "start_time": "2025-04-15T08:56:30.313Z"
   },
   {
    "duration": 4,
    "start_time": "2025-04-15T08:56:30.343Z"
   },
   {
    "duration": 25,
    "start_time": "2025-04-15T08:56:30.349Z"
   },
   {
    "duration": 21,
    "start_time": "2025-04-15T08:56:30.376Z"
   },
   {
    "duration": 37,
    "start_time": "2025-04-15T08:56:30.398Z"
   },
   {
    "duration": 19,
    "start_time": "2025-04-15T08:56:30.437Z"
   },
   {
    "duration": 69,
    "start_time": "2025-04-15T08:56:30.458Z"
   },
   {
    "duration": 66,
    "start_time": "2025-04-15T08:56:30.529Z"
   },
   {
    "duration": 13,
    "start_time": "2025-04-15T08:56:30.597Z"
   },
   {
    "duration": 21,
    "start_time": "2025-04-15T08:56:30.612Z"
   },
   {
    "duration": 1996,
    "start_time": "2025-04-15T08:56:30.634Z"
   },
   {
    "duration": 13,
    "start_time": "2025-04-15T08:56:32.632Z"
   },
   {
    "duration": 224,
    "start_time": "2025-04-15T08:56:32.646Z"
   },
   {
    "duration": 227,
    "start_time": "2025-04-15T08:56:32.872Z"
   },
   {
    "duration": 246,
    "start_time": "2025-04-15T08:56:33.101Z"
   },
   {
    "duration": 83,
    "start_time": "2025-04-15T08:56:33.349Z"
   },
   {
    "duration": 197,
    "start_time": "2025-04-15T08:56:33.433Z"
   },
   {
    "duration": 232,
    "start_time": "2025-04-15T08:56:33.632Z"
   },
   {
    "duration": 20,
    "start_time": "2025-04-15T08:56:33.865Z"
   },
   {
    "duration": 185,
    "start_time": "2025-04-15T08:56:33.887Z"
   },
   {
    "duration": 498,
    "start_time": "2025-04-15T08:56:34.073Z"
   },
   {
    "duration": 7,
    "start_time": "2025-04-15T08:56:34.572Z"
   },
   {
    "duration": 24,
    "start_time": "2025-04-15T08:56:34.581Z"
   },
   {
    "duration": 29,
    "start_time": "2025-04-15T08:56:34.606Z"
   },
   {
    "duration": 156,
    "start_time": "2025-04-15T08:56:34.637Z"
   },
   {
    "duration": 264,
    "start_time": "2025-04-15T08:56:34.794Z"
   },
   {
    "duration": 133,
    "start_time": "2025-04-15T08:56:35.061Z"
   },
   {
    "duration": 1122,
    "start_time": "2025-04-15T09:04:41.757Z"
   },
   {
    "duration": 1159,
    "start_time": "2025-04-15T09:08:49.529Z"
   },
   {
    "duration": 201,
    "start_time": "2025-04-15T09:08:50.690Z"
   },
   {
    "duration": 14,
    "start_time": "2025-04-15T09:08:50.892Z"
   },
   {
    "duration": 37,
    "start_time": "2025-04-15T09:08:50.908Z"
   },
   {
    "duration": 11,
    "start_time": "2025-04-15T09:08:50.946Z"
   },
   {
    "duration": 30,
    "start_time": "2025-04-15T09:08:50.958Z"
   },
   {
    "duration": 40,
    "start_time": "2025-04-15T09:08:50.989Z"
   },
   {
    "duration": 23,
    "start_time": "2025-04-15T09:08:51.031Z"
   },
   {
    "duration": 3,
    "start_time": "2025-04-15T09:08:51.055Z"
   },
   {
    "duration": 13,
    "start_time": "2025-04-15T09:08:51.060Z"
   },
   {
    "duration": 4,
    "start_time": "2025-04-15T09:08:51.075Z"
   },
   {
    "duration": 6,
    "start_time": "2025-04-15T09:08:51.080Z"
   },
   {
    "duration": 17,
    "start_time": "2025-04-15T09:08:51.087Z"
   },
   {
    "duration": 57,
    "start_time": "2025-04-15T09:08:51.106Z"
   },
   {
    "duration": 62,
    "start_time": "2025-04-15T09:08:51.165Z"
   },
   {
    "duration": 13,
    "start_time": "2025-04-15T09:08:51.228Z"
   },
   {
    "duration": 29,
    "start_time": "2025-04-15T09:08:51.242Z"
   },
   {
    "duration": 1823,
    "start_time": "2025-04-15T09:08:51.272Z"
   },
   {
    "duration": 15,
    "start_time": "2025-04-15T09:08:53.096Z"
   },
   {
    "duration": 200,
    "start_time": "2025-04-15T09:08:53.113Z"
   },
   {
    "duration": 225,
    "start_time": "2025-04-15T09:08:53.315Z"
   },
   {
    "duration": 253,
    "start_time": "2025-04-15T09:08:53.541Z"
   },
   {
    "duration": 83,
    "start_time": "2025-04-15T09:08:53.795Z"
   },
   {
    "duration": 193,
    "start_time": "2025-04-15T09:08:53.880Z"
   },
   {
    "duration": 248,
    "start_time": "2025-04-15T09:08:54.074Z"
   },
   {
    "duration": 20,
    "start_time": "2025-04-15T09:08:54.324Z"
   },
   {
    "duration": 193,
    "start_time": "2025-04-15T09:08:54.345Z"
   },
   {
    "duration": 464,
    "start_time": "2025-04-15T09:08:54.541Z"
   },
   {
    "duration": 6,
    "start_time": "2025-04-15T09:08:55.007Z"
   },
   {
    "duration": 9,
    "start_time": "2025-04-15T09:08:55.014Z"
   },
   {
    "duration": 10,
    "start_time": "2025-04-15T09:08:55.024Z"
   },
   {
    "duration": 171,
    "start_time": "2025-04-15T09:08:55.035Z"
   },
   {
    "duration": 258,
    "start_time": "2025-04-15T09:08:55.207Z"
   },
   {
    "duration": 116,
    "start_time": "2025-04-15T09:08:55.466Z"
   },
   {
    "duration": 1154,
    "start_time": "2025-04-15T10:53:45.178Z"
   },
   {
    "duration": 239,
    "start_time": "2025-04-15T10:53:46.333Z"
   },
   {
    "duration": 14,
    "start_time": "2025-04-15T10:53:46.573Z"
   },
   {
    "duration": 14,
    "start_time": "2025-04-15T10:53:46.588Z"
   },
   {
    "duration": 22,
    "start_time": "2025-04-15T10:53:46.604Z"
   },
   {
    "duration": 17,
    "start_time": "2025-04-15T10:53:46.628Z"
   },
   {
    "duration": 20,
    "start_time": "2025-04-15T10:53:46.647Z"
   },
   {
    "duration": 17,
    "start_time": "2025-04-15T10:53:46.669Z"
   },
   {
    "duration": 4,
    "start_time": "2025-04-15T10:53:46.688Z"
   },
   {
    "duration": 8,
    "start_time": "2025-04-15T10:53:46.693Z"
   },
   {
    "duration": 4,
    "start_time": "2025-04-15T10:53:46.703Z"
   },
   {
    "duration": 8,
    "start_time": "2025-04-15T10:53:46.708Z"
   },
   {
    "duration": 68,
    "start_time": "2025-04-15T10:53:46.718Z"
   },
   {
    "duration": 25,
    "start_time": "2025-04-15T10:53:46.789Z"
   },
   {
    "duration": 49,
    "start_time": "2025-04-15T10:53:46.817Z"
   },
   {
    "duration": 38,
    "start_time": "2025-04-15T10:53:46.868Z"
   },
   {
    "duration": 13,
    "start_time": "2025-04-15T10:53:46.907Z"
   },
   {
    "duration": 1906,
    "start_time": "2025-04-15T10:53:46.921Z"
   },
   {
    "duration": 14,
    "start_time": "2025-04-15T10:53:48.829Z"
   },
   {
    "duration": 202,
    "start_time": "2025-04-15T10:53:48.844Z"
   },
   {
    "duration": 222,
    "start_time": "2025-04-15T10:53:49.047Z"
   },
   {
    "duration": 255,
    "start_time": "2025-04-15T10:53:49.270Z"
   },
   {
    "duration": 83,
    "start_time": "2025-04-15T10:53:49.527Z"
   },
   {
    "duration": 188,
    "start_time": "2025-04-15T10:53:49.612Z"
   },
   {
    "duration": 254,
    "start_time": "2025-04-15T10:53:49.802Z"
   },
   {
    "duration": 32,
    "start_time": "2025-04-15T10:53:50.058Z"
   },
   {
    "duration": 206,
    "start_time": "2025-04-15T10:53:50.092Z"
   },
   {
    "duration": 494,
    "start_time": "2025-04-15T10:53:50.299Z"
   },
   {
    "duration": 7,
    "start_time": "2025-04-15T10:53:50.794Z"
   },
   {
    "duration": 15,
    "start_time": "2025-04-15T10:53:50.802Z"
   },
   {
    "duration": 19,
    "start_time": "2025-04-15T10:53:50.818Z"
   },
   {
    "duration": 150,
    "start_time": "2025-04-15T10:53:50.838Z"
   },
   {
    "duration": 263,
    "start_time": "2025-04-15T10:53:50.990Z"
   },
   {
    "duration": 122,
    "start_time": "2025-04-15T10:53:51.255Z"
   },
   {
    "duration": 4040,
    "start_time": "2025-04-15T16:35:51.121Z"
   },
   {
    "duration": 174,
    "start_time": "2025-04-15T16:35:55.163Z"
   },
   {
    "duration": 18,
    "start_time": "2025-04-15T16:35:55.339Z"
   },
   {
    "duration": 16,
    "start_time": "2025-04-15T16:35:55.360Z"
   },
   {
    "duration": 20,
    "start_time": "2025-04-15T16:35:55.377Z"
   },
   {
    "duration": 13,
    "start_time": "2025-04-15T16:35:55.398Z"
   },
   {
    "duration": 11,
    "start_time": "2025-04-15T16:35:55.413Z"
   },
   {
    "duration": 19,
    "start_time": "2025-04-15T16:35:55.426Z"
   },
   {
    "duration": 4,
    "start_time": "2025-04-15T16:35:55.447Z"
   },
   {
    "duration": 3,
    "start_time": "2025-04-15T16:35:55.476Z"
   },
   {
    "duration": 4,
    "start_time": "2025-04-15T16:35:55.481Z"
   },
   {
    "duration": 6,
    "start_time": "2025-04-15T16:35:55.486Z"
   },
   {
    "duration": 10,
    "start_time": "2025-04-15T16:35:55.493Z"
   },
   {
    "duration": 3,
    "start_time": "2025-04-15T16:35:55.505Z"
   },
   {
    "duration": 15,
    "start_time": "2025-04-15T16:35:55.509Z"
   },
   {
    "duration": 15,
    "start_time": "2025-04-15T16:35:55.525Z"
   },
   {
    "duration": 5,
    "start_time": "2025-04-15T16:35:55.542Z"
   },
   {
    "duration": 46,
    "start_time": "2025-04-15T16:35:55.549Z"
   },
   {
    "duration": 65,
    "start_time": "2025-04-15T16:35:55.596Z"
   },
   {
    "duration": 5,
    "start_time": "2025-04-15T16:35:55.662Z"
   },
   {
    "duration": 8,
    "start_time": "2025-04-15T16:35:55.677Z"
   },
   {
    "duration": 2172,
    "start_time": "2025-04-15T16:35:55.686Z"
   },
   {
    "duration": 5,
    "start_time": "2025-04-15T16:35:57.859Z"
   },
   {
    "duration": 129,
    "start_time": "2025-04-15T16:35:57.865Z"
   },
   {
    "duration": 67,
    "start_time": "2025-04-15T16:35:57.996Z"
   },
   {
    "duration": 4,
    "start_time": "2025-04-15T16:35:58.065Z"
   },
   {
    "duration": 14,
    "start_time": "2025-04-15T16:35:58.071Z"
   },
   {
    "duration": 3,
    "start_time": "2025-04-15T16:35:58.089Z"
   },
   {
    "duration": 244,
    "start_time": "2025-04-15T16:35:58.093Z"
   },
   {
    "duration": 259,
    "start_time": "2025-04-15T16:35:58.338Z"
   },
   {
    "duration": 328,
    "start_time": "2025-04-15T16:35:58.599Z"
   },
   {
    "duration": 94,
    "start_time": "2025-04-15T16:35:58.929Z"
   },
   {
    "duration": 228,
    "start_time": "2025-04-15T16:35:59.025Z"
   },
   {
    "duration": 265,
    "start_time": "2025-04-15T16:35:59.255Z"
   },
   {
    "duration": 24,
    "start_time": "2025-04-15T16:35:59.522Z"
   },
   {
    "duration": 230,
    "start_time": "2025-04-15T16:35:59.548Z"
   },
   {
    "duration": 568,
    "start_time": "2025-04-15T16:35:59.781Z"
   },
   {
    "duration": 9,
    "start_time": "2025-04-15T16:36:00.351Z"
   },
   {
    "duration": 50,
    "start_time": "2025-04-15T16:36:00.362Z"
   },
   {
    "duration": 65,
    "start_time": "2025-04-15T16:36:00.414Z"
   },
   {
    "duration": 185,
    "start_time": "2025-04-15T16:36:00.481Z"
   },
   {
    "duration": 291,
    "start_time": "2025-04-15T16:36:00.668Z"
   },
   {
    "duration": 136,
    "start_time": "2025-04-15T16:36:00.961Z"
   },
   {
    "duration": 520,
    "start_time": "2025-04-15T16:36:38.691Z"
   },
   {
    "duration": 1312,
    "start_time": "2025-04-15T16:38:19.190Z"
   },
   {
    "duration": 152,
    "start_time": "2025-04-15T16:38:20.504Z"
   },
   {
    "duration": 23,
    "start_time": "2025-04-15T16:38:20.657Z"
   },
   {
    "duration": 23,
    "start_time": "2025-04-15T16:38:20.683Z"
   },
   {
    "duration": 20,
    "start_time": "2025-04-15T16:38:20.708Z"
   },
   {
    "duration": 12,
    "start_time": "2025-04-15T16:38:20.730Z"
   },
   {
    "duration": 34,
    "start_time": "2025-04-15T16:38:20.744Z"
   },
   {
    "duration": 19,
    "start_time": "2025-04-15T16:38:20.780Z"
   },
   {
    "duration": 4,
    "start_time": "2025-04-15T16:38:20.800Z"
   },
   {
    "duration": 4,
    "start_time": "2025-04-15T16:38:20.807Z"
   },
   {
    "duration": 5,
    "start_time": "2025-04-15T16:38:20.812Z"
   },
   {
    "duration": 16,
    "start_time": "2025-04-15T16:38:20.818Z"
   },
   {
    "duration": 20,
    "start_time": "2025-04-15T16:38:20.836Z"
   },
   {
    "duration": 19,
    "start_time": "2025-04-15T16:38:20.857Z"
   },
   {
    "duration": 14,
    "start_time": "2025-04-15T16:38:20.878Z"
   },
   {
    "duration": 9,
    "start_time": "2025-04-15T16:38:20.894Z"
   },
   {
    "duration": 14,
    "start_time": "2025-04-15T16:38:20.905Z"
   },
   {
    "duration": 37,
    "start_time": "2025-04-15T16:38:20.921Z"
   },
   {
    "duration": 66,
    "start_time": "2025-04-15T16:38:20.959Z"
   },
   {
    "duration": 4,
    "start_time": "2025-04-15T16:38:21.027Z"
   },
   {
    "duration": 8,
    "start_time": "2025-04-15T16:38:21.033Z"
   },
   {
    "duration": 2254,
    "start_time": "2025-04-15T16:38:21.044Z"
   },
   {
    "duration": 5,
    "start_time": "2025-04-15T16:38:23.300Z"
   },
   {
    "duration": 8,
    "start_time": "2025-04-15T16:38:23.307Z"
   },
   {
    "duration": 16,
    "start_time": "2025-04-15T16:38:23.316Z"
   },
   {
    "duration": 8,
    "start_time": "2025-04-15T16:38:23.334Z"
   },
   {
    "duration": 42,
    "start_time": "2025-04-15T16:38:23.344Z"
   },
   {
    "duration": 3,
    "start_time": "2025-04-15T16:38:23.390Z"
   },
   {
    "duration": 260,
    "start_time": "2025-04-15T16:38:23.396Z"
   },
   {
    "duration": 257,
    "start_time": "2025-04-15T16:38:23.658Z"
   },
   {
    "duration": 301,
    "start_time": "2025-04-15T16:38:23.917Z"
   },
   {
    "duration": 101,
    "start_time": "2025-04-15T16:38:24.219Z"
   },
   {
    "duration": 224,
    "start_time": "2025-04-15T16:38:24.322Z"
   },
   {
    "duration": 282,
    "start_time": "2025-04-15T16:38:24.548Z"
   },
   {
    "duration": 23,
    "start_time": "2025-04-15T16:38:24.831Z"
   },
   {
    "duration": 228,
    "start_time": "2025-04-15T16:38:24.856Z"
   },
   {
    "duration": 560,
    "start_time": "2025-04-15T16:38:25.085Z"
   },
   {
    "duration": 8,
    "start_time": "2025-04-15T16:38:25.646Z"
   },
   {
    "duration": 22,
    "start_time": "2025-04-15T16:38:25.655Z"
   },
   {
    "duration": 12,
    "start_time": "2025-04-15T16:38:25.679Z"
   },
   {
    "duration": 215,
    "start_time": "2025-04-15T16:38:25.693Z"
   },
   {
    "duration": 317,
    "start_time": "2025-04-15T16:38:25.910Z"
   },
   {
    "duration": 140,
    "start_time": "2025-04-15T16:38:26.229Z"
   }
  ],
  "colab": {
   "provenance": []
  },
  "kernelspec": {
   "display_name": "Python [conda env:base] *",
   "language": "python",
   "name": "conda-base-py"
  },
  "language_info": {
   "codemirror_mode": {
    "name": "ipython",
    "version": 3
   },
   "file_extension": ".py",
   "mimetype": "text/x-python",
   "name": "python",
   "nbconvert_exporter": "python",
   "pygments_lexer": "ipython3",
   "version": "3.12.7"
  },
  "toc": {
   "base_numbering": 1,
   "nav_menu": {},
   "number_sections": false,
   "sideBar": true,
   "skip_h1_title": true,
   "title_cell": "Table of Contents",
   "title_sidebar": "Contents",
   "toc_cell": false,
   "toc_position": {},
   "toc_section_display": true,
   "toc_window_display": false
  }
 },
 "nbformat": 4,
 "nbformat_minor": 5
}
